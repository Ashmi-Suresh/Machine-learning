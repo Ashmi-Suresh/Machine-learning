{
 "cells": [
  {
   "cell_type": "markdown",
   "metadata": {
    "id": "QY2xCOTe13Hz"
   },
   "source": [
    "### Predicting the number of likes on Instagram using Regression Techniques\n",
    "\n",
    "One billion people use Instagram every month, which makes it one of the most popular social networks worldwide.\n",
    "Currently, there is an enormous scope market with the potential to be optimized to increase Instagram posts popularity and engagement.\n",
    "\n",
    "Ref: https://upcommons.upc.edu/bitstream/handle/2117/339937/152579.pdf?sequence=1&isAllowed=y\n"
   ]
  },
  {
   "cell_type": "markdown",
   "metadata": {
    "id": "uns3WhxF13Hx"
   },
   "source": [
    "### Project 1: (10 points)\n",
    "#####  your total (60 points) will divided by 6 to get 10 points for this project."
   ]
  },
  {
   "cell_type": "markdown",
   "metadata": {
    "id": "UAOJcA4-13Hz"
   },
   "source": [
    "---\n",
    "### The Instagram Users Datetime Posts Dataset   \n",
    "We explore the Instagram Users Datetime Posts dataset, which contains info of 1089 users' posts.\n",
    "\n",
    "The dataset can estimate the number of likes/likes scores given a post based on different features such as the time and date of the post, type of the post, number of tags, numbers of comments, or how many days the post has been posted.\n",
    "\n",
    "--\n",
    "### Objective:\n",
    "#### Estimate the number of likes based on number of tags, numbers of comments, or days passed from post.\n",
    "---\n",
    "\n",
    "\n",
    "### Dataset:\n",
    "you can find the dataset on Canvas under Dataset section: Instagram_Data"
   ]
  },
  {
   "cell_type": "markdown",
   "metadata": {
    "id": "QGRL6Z8j13H0"
   },
   "source": [
    "### Steps to do:"
   ]
  },
  {
   "cell_type": "markdown",
   "metadata": {
    "id": "Kyt7LP1113H1"
   },
   "source": [
    "    1- import libraries and initialize the plotting environment using matplotlib and/or seaborn  (1 point)"
   ]
  },
  {
   "cell_type": "code",
   "execution_count": 1,
   "metadata": {
    "id": "T3dOOhdO13H1"
   },
   "outputs": [],
   "source": [
    "# write you code here\n",
    "import numpy as np\n",
    "import pandas as pd\n",
    "import matplotlib.pyplot as plt\n",
    "import seaborn as sns\n",
    "import matplotlib"
   ]
  },
  {
   "cell_type": "markdown",
   "metadata": {
    "id": "_ery0xiv13H2"
   },
   "source": [
    "    2- Loading data into Panda datafram, name it insta_df (1 point)\n",
    "        * load only the first 2000 rows using the \"nrows\" parameter\n",
    "\n",
    "#### Note: you should read just the 2000 examples of the data.\n",
    "\n",
    "Otherwise, your execution time for each command will be long since the data has 178922 samples."
   ]
  },
  {
   "cell_type": "code",
   "execution_count": 2,
   "metadata": {
    "id": "Y2Fxb6xZ13H3"
   },
   "outputs": [
    {
     "data": {
      "text/html": [
       "<div>\n",
       "<style scoped>\n",
       "    .dataframe tbody tr th:only-of-type {\n",
       "        vertical-align: middle;\n",
       "    }\n",
       "\n",
       "    .dataframe tbody tr th {\n",
       "        vertical-align: top;\n",
       "    }\n",
       "\n",
       "    .dataframe thead th {\n",
       "        text-align: right;\n",
       "    }\n",
       "</style>\n",
       "<table border=\"1\" class=\"dataframe\">\n",
       "  <thead>\n",
       "    <tr style=\"text-align: right;\">\n",
       "      <th></th>\n",
       "      <th>User uuid</th>\n",
       "      <th>Likes</th>\n",
       "      <th>Days passed from post</th>\n",
       "      <th>Likes Score</th>\n",
       "      <th>Type</th>\n",
       "      <th>Numer of Tags</th>\n",
       "      <th>Numer of Comments</th>\n",
       "      <th>Date Posted</th>\n",
       "      <th>Year</th>\n",
       "      <th>Month</th>\n",
       "      <th>Day</th>\n",
       "      <th>Hour</th>\n",
       "      <th>Minute</th>\n",
       "    </tr>\n",
       "  </thead>\n",
       "  <tbody>\n",
       "    <tr>\n",
       "      <th>0</th>\n",
       "      <td>1</td>\n",
       "      <td>506</td>\n",
       "      <td>657</td>\n",
       "      <td>0.74</td>\n",
       "      <td>Image</td>\n",
       "      <td>3</td>\n",
       "      <td>11</td>\n",
       "      <td>2019-05-12 21:18:39</td>\n",
       "      <td>2019</td>\n",
       "      <td>5</td>\n",
       "      <td>12</td>\n",
       "      <td>21</td>\n",
       "      <td>18</td>\n",
       "    </tr>\n",
       "    <tr>\n",
       "      <th>1</th>\n",
       "      <td>1</td>\n",
       "      <td>385</td>\n",
       "      <td>657</td>\n",
       "      <td>0.57</td>\n",
       "      <td>Image</td>\n",
       "      <td>0</td>\n",
       "      <td>1</td>\n",
       "      <td>2019-05-12 14:25:55</td>\n",
       "      <td>2019</td>\n",
       "      <td>5</td>\n",
       "      <td>12</td>\n",
       "      <td>14</td>\n",
       "      <td>25</td>\n",
       "    </tr>\n",
       "    <tr>\n",
       "      <th>2</th>\n",
       "      <td>1</td>\n",
       "      <td>373</td>\n",
       "      <td>666</td>\n",
       "      <td>0.55</td>\n",
       "      <td>Images</td>\n",
       "      <td>4</td>\n",
       "      <td>15</td>\n",
       "      <td>2019-05-03 15:18:37</td>\n",
       "      <td>2019</td>\n",
       "      <td>5</td>\n",
       "      <td>3</td>\n",
       "      <td>15</td>\n",
       "      <td>18</td>\n",
       "    </tr>\n",
       "    <tr>\n",
       "      <th>3</th>\n",
       "      <td>1</td>\n",
       "      <td>312</td>\n",
       "      <td>667</td>\n",
       "      <td>0.46</td>\n",
       "      <td>Images</td>\n",
       "      <td>4</td>\n",
       "      <td>1</td>\n",
       "      <td>2019-05-02 16:40:38</td>\n",
       "      <td>2019</td>\n",
       "      <td>5</td>\n",
       "      <td>2</td>\n",
       "      <td>16</td>\n",
       "      <td>40</td>\n",
       "    </tr>\n",
       "    <tr>\n",
       "      <th>4</th>\n",
       "      <td>1</td>\n",
       "      <td>513</td>\n",
       "      <td>674</td>\n",
       "      <td>0.75</td>\n",
       "      <td>Images</td>\n",
       "      <td>5</td>\n",
       "      <td>0</td>\n",
       "      <td>2019-04-25 16:51:58</td>\n",
       "      <td>2019</td>\n",
       "      <td>4</td>\n",
       "      <td>25</td>\n",
       "      <td>16</td>\n",
       "      <td>51</td>\n",
       "    </tr>\n",
       "    <tr>\n",
       "      <th>...</th>\n",
       "      <td>...</td>\n",
       "      <td>...</td>\n",
       "      <td>...</td>\n",
       "      <td>...</td>\n",
       "      <td>...</td>\n",
       "      <td>...</td>\n",
       "      <td>...</td>\n",
       "      <td>...</td>\n",
       "      <td>...</td>\n",
       "      <td>...</td>\n",
       "      <td>...</td>\n",
       "      <td>...</td>\n",
       "      <td>...</td>\n",
       "    </tr>\n",
       "    <tr>\n",
       "      <th>1995</th>\n",
       "      <td>17</td>\n",
       "      <td>58</td>\n",
       "      <td>186</td>\n",
       "      <td>0.04</td>\n",
       "      <td>Image</td>\n",
       "      <td>0</td>\n",
       "      <td>84</td>\n",
       "      <td>2020-08-25 18:09:56</td>\n",
       "      <td>2020</td>\n",
       "      <td>8</td>\n",
       "      <td>25</td>\n",
       "      <td>18</td>\n",
       "      <td>9</td>\n",
       "    </tr>\n",
       "    <tr>\n",
       "      <th>1996</th>\n",
       "      <td>17</td>\n",
       "      <td>81</td>\n",
       "      <td>193</td>\n",
       "      <td>0.06</td>\n",
       "      <td>Video</td>\n",
       "      <td>4</td>\n",
       "      <td>5</td>\n",
       "      <td>2020-08-18 02:39:23</td>\n",
       "      <td>2020</td>\n",
       "      <td>8</td>\n",
       "      <td>18</td>\n",
       "      <td>2</td>\n",
       "      <td>39</td>\n",
       "    </tr>\n",
       "    <tr>\n",
       "      <th>1997</th>\n",
       "      <td>17</td>\n",
       "      <td>251</td>\n",
       "      <td>194</td>\n",
       "      <td>0.19</td>\n",
       "      <td>Image</td>\n",
       "      <td>4</td>\n",
       "      <td>13</td>\n",
       "      <td>2020-08-17 01:17:17</td>\n",
       "      <td>2020</td>\n",
       "      <td>8</td>\n",
       "      <td>17</td>\n",
       "      <td>1</td>\n",
       "      <td>17</td>\n",
       "    </tr>\n",
       "    <tr>\n",
       "      <th>1998</th>\n",
       "      <td>17</td>\n",
       "      <td>962</td>\n",
       "      <td>197</td>\n",
       "      <td>0.72</td>\n",
       "      <td>Images</td>\n",
       "      <td>0</td>\n",
       "      <td>38</td>\n",
       "      <td>2020-08-14 18:48:13</td>\n",
       "      <td>2020</td>\n",
       "      <td>8</td>\n",
       "      <td>14</td>\n",
       "      <td>18</td>\n",
       "      <td>48</td>\n",
       "    </tr>\n",
       "    <tr>\n",
       "      <th>1999</th>\n",
       "      <td>17</td>\n",
       "      <td>179</td>\n",
       "      <td>198</td>\n",
       "      <td>0.13</td>\n",
       "      <td>Images</td>\n",
       "      <td>5</td>\n",
       "      <td>5</td>\n",
       "      <td>2020-08-13 20:05:24</td>\n",
       "      <td>2020</td>\n",
       "      <td>8</td>\n",
       "      <td>13</td>\n",
       "      <td>20</td>\n",
       "      <td>5</td>\n",
       "    </tr>\n",
       "  </tbody>\n",
       "</table>\n",
       "<p>2000 rows × 13 columns</p>\n",
       "</div>"
      ],
      "text/plain": [
       "      User uuid  Likes  Days passed from post  Likes Score    Type  \\\n",
       "0             1    506                    657         0.74   Image   \n",
       "1             1    385                    657         0.57   Image   \n",
       "2             1    373                    666         0.55  Images   \n",
       "3             1    312                    667         0.46  Images   \n",
       "4             1    513                    674         0.75  Images   \n",
       "...         ...    ...                    ...          ...     ...   \n",
       "1995         17     58                    186         0.04   Image   \n",
       "1996         17     81                    193         0.06   Video   \n",
       "1997         17    251                    194         0.19   Image   \n",
       "1998         17    962                    197         0.72  Images   \n",
       "1999         17    179                    198         0.13  Images   \n",
       "\n",
       "      Numer of Tags  Numer of Comments          Date Posted  Year  Month  Day  \\\n",
       "0                 3                 11  2019-05-12 21:18:39  2019      5   12   \n",
       "1                 0                  1  2019-05-12 14:25:55  2019      5   12   \n",
       "2                 4                 15  2019-05-03 15:18:37  2019      5    3   \n",
       "3                 4                  1  2019-05-02 16:40:38  2019      5    2   \n",
       "4                 5                  0  2019-04-25 16:51:58  2019      4   25   \n",
       "...             ...                ...                  ...   ...    ...  ...   \n",
       "1995              0                 84  2020-08-25 18:09:56  2020      8   25   \n",
       "1996              4                  5  2020-08-18 02:39:23  2020      8   18   \n",
       "1997              4                 13  2020-08-17 01:17:17  2020      8   17   \n",
       "1998              0                 38  2020-08-14 18:48:13  2020      8   14   \n",
       "1999              5                  5  2020-08-13 20:05:24  2020      8   13   \n",
       "\n",
       "      Hour  Minute  \n",
       "0       21      18  \n",
       "1       14      25  \n",
       "2       15      18  \n",
       "3       16      40  \n",
       "4       16      51  \n",
       "...    ...     ...  \n",
       "1995    18       9  \n",
       "1996     2      39  \n",
       "1997     1      17  \n",
       "1998    18      48  \n",
       "1999    20       5  \n",
       "\n",
       "[2000 rows x 13 columns]"
      ]
     },
     "execution_count": 2,
     "metadata": {},
     "output_type": "execute_result"
    }
   ],
   "source": [
    "# write you code here\n",
    "insta_df = pd.read_csv('Instagram_Data.csv',nrows = 2000)\n",
    "##\n",
    "insta_df"
   ]
  },
  {
   "cell_type": "markdown",
   "metadata": {
    "id": "HdIufVjF13H3"
   },
   "source": [
    "    3- Show the 10 first rows of the data, its shape, and the coulmens names: (3 points)"
   ]
  },
  {
   "cell_type": "code",
   "execution_count": 3,
   "metadata": {
    "id": "rJd4Edpe13H4"
   },
   "outputs": [
    {
     "data": {
      "text/html": [
       "<div>\n",
       "<style scoped>\n",
       "    .dataframe tbody tr th:only-of-type {\n",
       "        vertical-align: middle;\n",
       "    }\n",
       "\n",
       "    .dataframe tbody tr th {\n",
       "        vertical-align: top;\n",
       "    }\n",
       "\n",
       "    .dataframe thead th {\n",
       "        text-align: right;\n",
       "    }\n",
       "</style>\n",
       "<table border=\"1\" class=\"dataframe\">\n",
       "  <thead>\n",
       "    <tr style=\"text-align: right;\">\n",
       "      <th></th>\n",
       "      <th>User uuid</th>\n",
       "      <th>Likes</th>\n",
       "      <th>Days passed from post</th>\n",
       "      <th>Likes Score</th>\n",
       "      <th>Type</th>\n",
       "      <th>Numer of Tags</th>\n",
       "      <th>Numer of Comments</th>\n",
       "      <th>Date Posted</th>\n",
       "      <th>Year</th>\n",
       "      <th>Month</th>\n",
       "      <th>Day</th>\n",
       "      <th>Hour</th>\n",
       "      <th>Minute</th>\n",
       "    </tr>\n",
       "  </thead>\n",
       "  <tbody>\n",
       "    <tr>\n",
       "      <th>0</th>\n",
       "      <td>1</td>\n",
       "      <td>506</td>\n",
       "      <td>657</td>\n",
       "      <td>0.74</td>\n",
       "      <td>Image</td>\n",
       "      <td>3</td>\n",
       "      <td>11</td>\n",
       "      <td>2019-05-12 21:18:39</td>\n",
       "      <td>2019</td>\n",
       "      <td>5</td>\n",
       "      <td>12</td>\n",
       "      <td>21</td>\n",
       "      <td>18</td>\n",
       "    </tr>\n",
       "    <tr>\n",
       "      <th>1</th>\n",
       "      <td>1</td>\n",
       "      <td>385</td>\n",
       "      <td>657</td>\n",
       "      <td>0.57</td>\n",
       "      <td>Image</td>\n",
       "      <td>0</td>\n",
       "      <td>1</td>\n",
       "      <td>2019-05-12 14:25:55</td>\n",
       "      <td>2019</td>\n",
       "      <td>5</td>\n",
       "      <td>12</td>\n",
       "      <td>14</td>\n",
       "      <td>25</td>\n",
       "    </tr>\n",
       "    <tr>\n",
       "      <th>2</th>\n",
       "      <td>1</td>\n",
       "      <td>373</td>\n",
       "      <td>666</td>\n",
       "      <td>0.55</td>\n",
       "      <td>Images</td>\n",
       "      <td>4</td>\n",
       "      <td>15</td>\n",
       "      <td>2019-05-03 15:18:37</td>\n",
       "      <td>2019</td>\n",
       "      <td>5</td>\n",
       "      <td>3</td>\n",
       "      <td>15</td>\n",
       "      <td>18</td>\n",
       "    </tr>\n",
       "    <tr>\n",
       "      <th>3</th>\n",
       "      <td>1</td>\n",
       "      <td>312</td>\n",
       "      <td>667</td>\n",
       "      <td>0.46</td>\n",
       "      <td>Images</td>\n",
       "      <td>4</td>\n",
       "      <td>1</td>\n",
       "      <td>2019-05-02 16:40:38</td>\n",
       "      <td>2019</td>\n",
       "      <td>5</td>\n",
       "      <td>2</td>\n",
       "      <td>16</td>\n",
       "      <td>40</td>\n",
       "    </tr>\n",
       "    <tr>\n",
       "      <th>4</th>\n",
       "      <td>1</td>\n",
       "      <td>513</td>\n",
       "      <td>674</td>\n",
       "      <td>0.75</td>\n",
       "      <td>Images</td>\n",
       "      <td>5</td>\n",
       "      <td>0</td>\n",
       "      <td>2019-04-25 16:51:58</td>\n",
       "      <td>2019</td>\n",
       "      <td>4</td>\n",
       "      <td>25</td>\n",
       "      <td>16</td>\n",
       "      <td>51</td>\n",
       "    </tr>\n",
       "    <tr>\n",
       "      <th>5</th>\n",
       "      <td>1</td>\n",
       "      <td>539</td>\n",
       "      <td>677</td>\n",
       "      <td>0.79</td>\n",
       "      <td>Images</td>\n",
       "      <td>3</td>\n",
       "      <td>3</td>\n",
       "      <td>2019-04-22 20:03:00</td>\n",
       "      <td>2019</td>\n",
       "      <td>4</td>\n",
       "      <td>22</td>\n",
       "      <td>20</td>\n",
       "      <td>3</td>\n",
       "    </tr>\n",
       "    <tr>\n",
       "      <th>6</th>\n",
       "      <td>1</td>\n",
       "      <td>330</td>\n",
       "      <td>677</td>\n",
       "      <td>0.49</td>\n",
       "      <td>Image</td>\n",
       "      <td>0</td>\n",
       "      <td>3</td>\n",
       "      <td>2019-04-22 15:07:34</td>\n",
       "      <td>2019</td>\n",
       "      <td>4</td>\n",
       "      <td>22</td>\n",
       "      <td>15</td>\n",
       "      <td>7</td>\n",
       "    </tr>\n",
       "    <tr>\n",
       "      <th>7</th>\n",
       "      <td>1</td>\n",
       "      <td>472</td>\n",
       "      <td>681</td>\n",
       "      <td>0.69</td>\n",
       "      <td>Images</td>\n",
       "      <td>3</td>\n",
       "      <td>7</td>\n",
       "      <td>2019-04-18 14:44:36</td>\n",
       "      <td>2019</td>\n",
       "      <td>4</td>\n",
       "      <td>18</td>\n",
       "      <td>14</td>\n",
       "      <td>44</td>\n",
       "    </tr>\n",
       "    <tr>\n",
       "      <th>8</th>\n",
       "      <td>1</td>\n",
       "      <td>272</td>\n",
       "      <td>682</td>\n",
       "      <td>0.40</td>\n",
       "      <td>Image</td>\n",
       "      <td>0</td>\n",
       "      <td>0</td>\n",
       "      <td>2019-04-17 15:42:56</td>\n",
       "      <td>2019</td>\n",
       "      <td>4</td>\n",
       "      <td>17</td>\n",
       "      <td>15</td>\n",
       "      <td>42</td>\n",
       "    </tr>\n",
       "    <tr>\n",
       "      <th>9</th>\n",
       "      <td>1</td>\n",
       "      <td>304</td>\n",
       "      <td>688</td>\n",
       "      <td>0.45</td>\n",
       "      <td>Images</td>\n",
       "      <td>3</td>\n",
       "      <td>0</td>\n",
       "      <td>2019-04-11 15:00:05</td>\n",
       "      <td>2019</td>\n",
       "      <td>4</td>\n",
       "      <td>11</td>\n",
       "      <td>15</td>\n",
       "      <td>0</td>\n",
       "    </tr>\n",
       "  </tbody>\n",
       "</table>\n",
       "</div>"
      ],
      "text/plain": [
       "   User uuid  Likes  Days passed from post  Likes Score    Type  \\\n",
       "0          1    506                    657         0.74   Image   \n",
       "1          1    385                    657         0.57   Image   \n",
       "2          1    373                    666         0.55  Images   \n",
       "3          1    312                    667         0.46  Images   \n",
       "4          1    513                    674         0.75  Images   \n",
       "5          1    539                    677         0.79  Images   \n",
       "6          1    330                    677         0.49   Image   \n",
       "7          1    472                    681         0.69  Images   \n",
       "8          1    272                    682         0.40   Image   \n",
       "9          1    304                    688         0.45  Images   \n",
       "\n",
       "   Numer of Tags  Numer of Comments          Date Posted  Year  Month  Day  \\\n",
       "0              3                 11  2019-05-12 21:18:39  2019      5   12   \n",
       "1              0                  1  2019-05-12 14:25:55  2019      5   12   \n",
       "2              4                 15  2019-05-03 15:18:37  2019      5    3   \n",
       "3              4                  1  2019-05-02 16:40:38  2019      5    2   \n",
       "4              5                  0  2019-04-25 16:51:58  2019      4   25   \n",
       "5              3                  3  2019-04-22 20:03:00  2019      4   22   \n",
       "6              0                  3  2019-04-22 15:07:34  2019      4   22   \n",
       "7              3                  7  2019-04-18 14:44:36  2019      4   18   \n",
       "8              0                  0  2019-04-17 15:42:56  2019      4   17   \n",
       "9              3                  0  2019-04-11 15:00:05  2019      4   11   \n",
       "\n",
       "   Hour  Minute  \n",
       "0    21      18  \n",
       "1    14      25  \n",
       "2    15      18  \n",
       "3    16      40  \n",
       "4    16      51  \n",
       "5    20       3  \n",
       "6    15       7  \n",
       "7    14      44  \n",
       "8    15      42  \n",
       "9    15       0  "
      ]
     },
     "execution_count": 3,
     "metadata": {},
     "output_type": "execute_result"
    }
   ],
   "source": [
    "# 10 first rows of the data\n",
    "insta_df.head(n=10)"
   ]
  },
  {
   "cell_type": "code",
   "execution_count": 4,
   "metadata": {
    "id": "Bm0VCUzH13H5"
   },
   "outputs": [
    {
     "data": {
      "text/plain": [
       "(2000, 13)"
      ]
     },
     "execution_count": 4,
     "metadata": {},
     "output_type": "execute_result"
    }
   ],
   "source": [
    "# insta_df shape\n",
    "insta_df.shape"
   ]
  },
  {
   "cell_type": "code",
   "execution_count": 5,
   "metadata": {
    "id": "fwRIMmAg13H5"
   },
   "outputs": [
    {
     "data": {
      "text/plain": [
       "Index(['User uuid', 'Likes', 'Days passed from post', 'Likes Score', 'Type',\n",
       "       'Numer of Tags', 'Numer of Comments', 'Date Posted', 'Year', 'Month',\n",
       "       'Day', 'Hour', 'Minute'],\n",
       "      dtype='object')"
      ]
     },
     "execution_count": 5,
     "metadata": {},
     "output_type": "execute_result"
    }
   ],
   "source": [
    "# insta_df column names\n",
    "insta_df.columns"
   ]
  },
  {
   "cell_type": "markdown",
   "metadata": {
    "id": "MOSwAA2Z13H5"
   },
   "source": [
    "    4- Check the number of samples in the dataset (1 point)"
   ]
  },
  {
   "cell_type": "code",
   "execution_count": 6,
   "metadata": {
    "id": "DQSRx-bh13H6"
   },
   "outputs": [
    {
     "data": {
      "text/plain": [
       "2000"
      ]
     },
     "execution_count": 6,
     "metadata": {},
     "output_type": "execute_result"
    }
   ],
   "source": [
    "# insta_df row numbers: \n",
    "len(insta_df)"
   ]
  },
  {
   "cell_type": "markdown",
   "metadata": {
    "id": "vf3U6HRD13H6"
   },
   "source": [
    "    5- Check the data type of each column ( 1 point)"
   ]
  },
  {
   "cell_type": "code",
   "execution_count": 7,
   "metadata": {
    "id": "KJmc6r-113H6"
   },
   "outputs": [
    {
     "data": {
      "text/plain": [
       "User uuid                  int64\n",
       "Likes                      int64\n",
       "Days passed from post      int64\n",
       "Likes Score              float64\n",
       "Type                      object\n",
       "Numer of Tags              int64\n",
       "Numer of Comments          int64\n",
       "Date Posted               object\n",
       "Year                       int64\n",
       "Month                      int64\n",
       "Day                        int64\n",
       "Hour                       int64\n",
       "Minute                     int64\n",
       "dtype: object"
      ]
     },
     "execution_count": 7,
     "metadata": {},
     "output_type": "execute_result"
    }
   ],
   "source": [
    "# Print datatypes\n",
    "insta_df.dtypes"
   ]
  },
  {
   "cell_type": "markdown",
   "metadata": {
    "id": "-jziyg2J13H7"
   },
   "source": [
    "    6- Remove columns from the dataframe:\n",
    "\n",
    "        a. Remove user id from the insta_df as there is no useful information from this column. (1 point)\n",
    "\n",
    "        b. Remove the Likes Score since it is calculated from the number of likes. (1 point)\n",
    "\n",
    "        c. Remove the date and time columns from the data frame since our goal is not to consider the posted date and time related to the number of likes (2 points)"
   ]
  },
  {
   "cell_type": "code",
   "execution_count": 8,
   "metadata": {
    "id": "p_PO2lT_13H7"
   },
   "outputs": [
    {
     "data": {
      "text/html": [
       "<div>\n",
       "<style scoped>\n",
       "    .dataframe tbody tr th:only-of-type {\n",
       "        vertical-align: middle;\n",
       "    }\n",
       "\n",
       "    .dataframe tbody tr th {\n",
       "        vertical-align: top;\n",
       "    }\n",
       "\n",
       "    .dataframe thead th {\n",
       "        text-align: right;\n",
       "    }\n",
       "</style>\n",
       "<table border=\"1\" class=\"dataframe\">\n",
       "  <thead>\n",
       "    <tr style=\"text-align: right;\">\n",
       "      <th></th>\n",
       "      <th>Likes</th>\n",
       "      <th>Days passed from post</th>\n",
       "      <th>Type</th>\n",
       "      <th>Numer of Tags</th>\n",
       "      <th>Numer of Comments</th>\n",
       "      <th>Year</th>\n",
       "      <th>Month</th>\n",
       "      <th>Day</th>\n",
       "    </tr>\n",
       "  </thead>\n",
       "  <tbody>\n",
       "    <tr>\n",
       "      <th>0</th>\n",
       "      <td>506</td>\n",
       "      <td>657</td>\n",
       "      <td>Image</td>\n",
       "      <td>3</td>\n",
       "      <td>11</td>\n",
       "      <td>2019</td>\n",
       "      <td>5</td>\n",
       "      <td>12</td>\n",
       "    </tr>\n",
       "    <tr>\n",
       "      <th>1</th>\n",
       "      <td>385</td>\n",
       "      <td>657</td>\n",
       "      <td>Image</td>\n",
       "      <td>0</td>\n",
       "      <td>1</td>\n",
       "      <td>2019</td>\n",
       "      <td>5</td>\n",
       "      <td>12</td>\n",
       "    </tr>\n",
       "    <tr>\n",
       "      <th>2</th>\n",
       "      <td>373</td>\n",
       "      <td>666</td>\n",
       "      <td>Images</td>\n",
       "      <td>4</td>\n",
       "      <td>15</td>\n",
       "      <td>2019</td>\n",
       "      <td>5</td>\n",
       "      <td>3</td>\n",
       "    </tr>\n",
       "    <tr>\n",
       "      <th>3</th>\n",
       "      <td>312</td>\n",
       "      <td>667</td>\n",
       "      <td>Images</td>\n",
       "      <td>4</td>\n",
       "      <td>1</td>\n",
       "      <td>2019</td>\n",
       "      <td>5</td>\n",
       "      <td>2</td>\n",
       "    </tr>\n",
       "    <tr>\n",
       "      <th>4</th>\n",
       "      <td>513</td>\n",
       "      <td>674</td>\n",
       "      <td>Images</td>\n",
       "      <td>5</td>\n",
       "      <td>0</td>\n",
       "      <td>2019</td>\n",
       "      <td>4</td>\n",
       "      <td>25</td>\n",
       "    </tr>\n",
       "    <tr>\n",
       "      <th>...</th>\n",
       "      <td>...</td>\n",
       "      <td>...</td>\n",
       "      <td>...</td>\n",
       "      <td>...</td>\n",
       "      <td>...</td>\n",
       "      <td>...</td>\n",
       "      <td>...</td>\n",
       "      <td>...</td>\n",
       "    </tr>\n",
       "    <tr>\n",
       "      <th>1995</th>\n",
       "      <td>58</td>\n",
       "      <td>186</td>\n",
       "      <td>Image</td>\n",
       "      <td>0</td>\n",
       "      <td>84</td>\n",
       "      <td>2020</td>\n",
       "      <td>8</td>\n",
       "      <td>25</td>\n",
       "    </tr>\n",
       "    <tr>\n",
       "      <th>1996</th>\n",
       "      <td>81</td>\n",
       "      <td>193</td>\n",
       "      <td>Video</td>\n",
       "      <td>4</td>\n",
       "      <td>5</td>\n",
       "      <td>2020</td>\n",
       "      <td>8</td>\n",
       "      <td>18</td>\n",
       "    </tr>\n",
       "    <tr>\n",
       "      <th>1997</th>\n",
       "      <td>251</td>\n",
       "      <td>194</td>\n",
       "      <td>Image</td>\n",
       "      <td>4</td>\n",
       "      <td>13</td>\n",
       "      <td>2020</td>\n",
       "      <td>8</td>\n",
       "      <td>17</td>\n",
       "    </tr>\n",
       "    <tr>\n",
       "      <th>1998</th>\n",
       "      <td>962</td>\n",
       "      <td>197</td>\n",
       "      <td>Images</td>\n",
       "      <td>0</td>\n",
       "      <td>38</td>\n",
       "      <td>2020</td>\n",
       "      <td>8</td>\n",
       "      <td>14</td>\n",
       "    </tr>\n",
       "    <tr>\n",
       "      <th>1999</th>\n",
       "      <td>179</td>\n",
       "      <td>198</td>\n",
       "      <td>Images</td>\n",
       "      <td>5</td>\n",
       "      <td>5</td>\n",
       "      <td>2020</td>\n",
       "      <td>8</td>\n",
       "      <td>13</td>\n",
       "    </tr>\n",
       "  </tbody>\n",
       "</table>\n",
       "<p>2000 rows × 8 columns</p>\n",
       "</div>"
      ],
      "text/plain": [
       "      Likes  Days passed from post    Type  Numer of Tags  Numer of Comments  \\\n",
       "0       506                    657   Image              3                 11   \n",
       "1       385                    657   Image              0                  1   \n",
       "2       373                    666  Images              4                 15   \n",
       "3       312                    667  Images              4                  1   \n",
       "4       513                    674  Images              5                  0   \n",
       "...     ...                    ...     ...            ...                ...   \n",
       "1995     58                    186   Image              0                 84   \n",
       "1996     81                    193   Video              4                  5   \n",
       "1997    251                    194   Image              4                 13   \n",
       "1998    962                    197  Images              0                 38   \n",
       "1999    179                    198  Images              5                  5   \n",
       "\n",
       "      Year  Month  Day  \n",
       "0     2019      5   12  \n",
       "1     2019      5   12  \n",
       "2     2019      5    3  \n",
       "3     2019      5    2  \n",
       "4     2019      4   25  \n",
       "...    ...    ...  ...  \n",
       "1995  2020      8   25  \n",
       "1996  2020      8   18  \n",
       "1997  2020      8   17  \n",
       "1998  2020      8   14  \n",
       "1999  2020      8   13  \n",
       "\n",
       "[2000 rows x 8 columns]"
      ]
     },
     "execution_count": 8,
     "metadata": {},
     "output_type": "execute_result"
    }
   ],
   "source": [
    "# Remove User uuid\n",
    "del insta_df['User uuid']\n",
    "# Remove User Likes Score\n",
    "\n",
    "del insta_df['Likes Score']\n",
    "# Remove all columns between column index 1 to 3\n",
    "for col in ['Date Posted', 'Hour', 'Minute']:\n",
    "    del insta_df[col]\n",
    "\n",
    "# show the insta_df after you remove the required columns\n",
    "insta_df"
   ]
  },
  {
   "cell_type": "markdown",
   "metadata": {
    "id": "zr-WQ_8b13H7"
   },
   "source": [
    "    7- Check how many unique values are on the \"Type\" column. ( 1 point)\n",
    "        * you can use the unique() function if you wish"
   ]
  },
  {
   "cell_type": "code",
   "execution_count": 9,
   "metadata": {
    "id": "p_IR9pYW13H7"
   },
   "outputs": [
    {
     "data": {
      "text/plain": [
       "3"
      ]
     },
     "execution_count": 9,
     "metadata": {},
     "output_type": "execute_result"
    }
   ],
   "source": [
    "# write you code here\n",
    "#1. insta_df.Type.nunique(dropna = True) (or)\n",
    "No_of_unique = insta_df.Type.unique().size\n",
    "No_of_unique"
   ]
  },
  {
   "cell_type": "markdown",
   "metadata": {
    "id": "b_tbkz3M13H8"
   },
   "source": [
    "    8- Use label encoder to change the \"Type\" coulmn values to numeric values (2 point)"
   ]
  },
  {
   "cell_type": "code",
   "execution_count": 10,
   "metadata": {
    "id": "HiS5AybO13H8"
   },
   "outputs": [
    {
     "data": {
      "text/html": [
       "<div>\n",
       "<style scoped>\n",
       "    .dataframe tbody tr th:only-of-type {\n",
       "        vertical-align: middle;\n",
       "    }\n",
       "\n",
       "    .dataframe tbody tr th {\n",
       "        vertical-align: top;\n",
       "    }\n",
       "\n",
       "    .dataframe thead th {\n",
       "        text-align: right;\n",
       "    }\n",
       "</style>\n",
       "<table border=\"1\" class=\"dataframe\">\n",
       "  <thead>\n",
       "    <tr style=\"text-align: right;\">\n",
       "      <th></th>\n",
       "      <th>Likes</th>\n",
       "      <th>Days passed from post</th>\n",
       "      <th>Type</th>\n",
       "      <th>Numer of Tags</th>\n",
       "      <th>Numer of Comments</th>\n",
       "      <th>Year</th>\n",
       "      <th>Month</th>\n",
       "      <th>Day</th>\n",
       "    </tr>\n",
       "  </thead>\n",
       "  <tbody>\n",
       "    <tr>\n",
       "      <th>0</th>\n",
       "      <td>506</td>\n",
       "      <td>657</td>\n",
       "      <td>0</td>\n",
       "      <td>3</td>\n",
       "      <td>11</td>\n",
       "      <td>2019</td>\n",
       "      <td>5</td>\n",
       "      <td>12</td>\n",
       "    </tr>\n",
       "    <tr>\n",
       "      <th>1</th>\n",
       "      <td>385</td>\n",
       "      <td>657</td>\n",
       "      <td>0</td>\n",
       "      <td>0</td>\n",
       "      <td>1</td>\n",
       "      <td>2019</td>\n",
       "      <td>5</td>\n",
       "      <td>12</td>\n",
       "    </tr>\n",
       "    <tr>\n",
       "      <th>2</th>\n",
       "      <td>373</td>\n",
       "      <td>666</td>\n",
       "      <td>1</td>\n",
       "      <td>4</td>\n",
       "      <td>15</td>\n",
       "      <td>2019</td>\n",
       "      <td>5</td>\n",
       "      <td>3</td>\n",
       "    </tr>\n",
       "    <tr>\n",
       "      <th>3</th>\n",
       "      <td>312</td>\n",
       "      <td>667</td>\n",
       "      <td>1</td>\n",
       "      <td>4</td>\n",
       "      <td>1</td>\n",
       "      <td>2019</td>\n",
       "      <td>5</td>\n",
       "      <td>2</td>\n",
       "    </tr>\n",
       "    <tr>\n",
       "      <th>4</th>\n",
       "      <td>513</td>\n",
       "      <td>674</td>\n",
       "      <td>1</td>\n",
       "      <td>5</td>\n",
       "      <td>0</td>\n",
       "      <td>2019</td>\n",
       "      <td>4</td>\n",
       "      <td>25</td>\n",
       "    </tr>\n",
       "    <tr>\n",
       "      <th>...</th>\n",
       "      <td>...</td>\n",
       "      <td>...</td>\n",
       "      <td>...</td>\n",
       "      <td>...</td>\n",
       "      <td>...</td>\n",
       "      <td>...</td>\n",
       "      <td>...</td>\n",
       "      <td>...</td>\n",
       "    </tr>\n",
       "    <tr>\n",
       "      <th>1995</th>\n",
       "      <td>58</td>\n",
       "      <td>186</td>\n",
       "      <td>0</td>\n",
       "      <td>0</td>\n",
       "      <td>84</td>\n",
       "      <td>2020</td>\n",
       "      <td>8</td>\n",
       "      <td>25</td>\n",
       "    </tr>\n",
       "    <tr>\n",
       "      <th>1996</th>\n",
       "      <td>81</td>\n",
       "      <td>193</td>\n",
       "      <td>2</td>\n",
       "      <td>4</td>\n",
       "      <td>5</td>\n",
       "      <td>2020</td>\n",
       "      <td>8</td>\n",
       "      <td>18</td>\n",
       "    </tr>\n",
       "    <tr>\n",
       "      <th>1997</th>\n",
       "      <td>251</td>\n",
       "      <td>194</td>\n",
       "      <td>0</td>\n",
       "      <td>4</td>\n",
       "      <td>13</td>\n",
       "      <td>2020</td>\n",
       "      <td>8</td>\n",
       "      <td>17</td>\n",
       "    </tr>\n",
       "    <tr>\n",
       "      <th>1998</th>\n",
       "      <td>962</td>\n",
       "      <td>197</td>\n",
       "      <td>1</td>\n",
       "      <td>0</td>\n",
       "      <td>38</td>\n",
       "      <td>2020</td>\n",
       "      <td>8</td>\n",
       "      <td>14</td>\n",
       "    </tr>\n",
       "    <tr>\n",
       "      <th>1999</th>\n",
       "      <td>179</td>\n",
       "      <td>198</td>\n",
       "      <td>1</td>\n",
       "      <td>5</td>\n",
       "      <td>5</td>\n",
       "      <td>2020</td>\n",
       "      <td>8</td>\n",
       "      <td>13</td>\n",
       "    </tr>\n",
       "  </tbody>\n",
       "</table>\n",
       "<p>2000 rows × 8 columns</p>\n",
       "</div>"
      ],
      "text/plain": [
       "      Likes  Days passed from post  Type  Numer of Tags  Numer of Comments  \\\n",
       "0       506                    657     0              3                 11   \n",
       "1       385                    657     0              0                  1   \n",
       "2       373                    666     1              4                 15   \n",
       "3       312                    667     1              4                  1   \n",
       "4       513                    674     1              5                  0   \n",
       "...     ...                    ...   ...            ...                ...   \n",
       "1995     58                    186     0              0                 84   \n",
       "1996     81                    193     2              4                  5   \n",
       "1997    251                    194     0              4                 13   \n",
       "1998    962                    197     1              0                 38   \n",
       "1999    179                    198     1              5                  5   \n",
       "\n",
       "      Year  Month  Day  \n",
       "0     2019      5   12  \n",
       "1     2019      5   12  \n",
       "2     2019      5    3  \n",
       "3     2019      5    2  \n",
       "4     2019      4   25  \n",
       "...    ...    ...  ...  \n",
       "1995  2020      8   25  \n",
       "1996  2020      8   18  \n",
       "1997  2020      8   17  \n",
       "1998  2020      8   14  \n",
       "1999  2020      8   13  \n",
       "\n",
       "[2000 rows x 8 columns]"
      ]
     },
     "execution_count": 10,
     "metadata": {},
     "output_type": "execute_result"
    }
   ],
   "source": [
    "# Encode \"Type\"\n",
    "# Import label encoder\n",
    "from sklearn import preprocessing\n",
    "  \n",
    "# label_encoder object knows how to understand word labels.\n",
    "label_encoder = preprocessing.LabelEncoder()\n",
    "  \n",
    "# Encode labels in column 'Type'.\n",
    "insta_df['Type']= label_encoder.fit_transform(insta_df['Type'])\n",
    "  \n",
    "#insta_df['Type'].unique()\n",
    "\n",
    "insta_df"
   ]
  },
  {
   "cell_type": "markdown",
   "metadata": {
    "id": "y610V4t-13H8"
   },
   "source": [
    "    9- Check how many NaN values are in each column:\n",
    "\n",
    "        a. How many NaNs as total ( 1 point)\n",
    "\n",
    "        b. How many NaNs as a percentage of overall data ( 1 point)"
   ]
  },
  {
   "cell_type": "code",
   "execution_count": 11,
   "metadata": {
    "id": "eoIl5u3z13H8"
   },
   "outputs": [
    {
     "data": {
      "text/plain": [
       "Likes                    0\n",
       "Days passed from post    0\n",
       "Type                     0\n",
       "Numer of Tags            0\n",
       "Numer of Comments        0\n",
       "Year                     0\n",
       "Month                    0\n",
       "Day                      0\n",
       "dtype: int64"
      ]
     },
     "execution_count": 11,
     "metadata": {},
     "output_type": "execute_result"
    }
   ],
   "source": [
    "# a. How many NaNs as total\n",
    "insta_df.isna().sum()"
   ]
  },
  {
   "cell_type": "code",
   "execution_count": 12,
   "metadata": {
    "id": "2mZ86GSW13H9"
   },
   "outputs": [
    {
     "data": {
      "text/plain": [
       "Likes                    0.0\n",
       "Days passed from post    0.0\n",
       "Type                     0.0\n",
       "Numer of Tags            0.0\n",
       "Numer of Comments        0.0\n",
       "Year                     0.0\n",
       "Month                    0.0\n",
       "Day                      0.0\n",
       "dtype: float64"
      ]
     },
     "execution_count": 12,
     "metadata": {},
     "output_type": "execute_result"
    }
   ],
   "source": [
    "# b. How many NaNs as a percentage of overall data\n",
    "insta_df.isna().sum() / len(insta_df) * 100"
   ]
  },
  {
   "cell_type": "markdown",
   "metadata": {
    "id": "jteaLpCY13H9"
   },
   "source": [
    "    10- Divide the data into features (X), and target (y) --> your target is Likes  (2 points)"
   ]
  },
  {
   "cell_type": "code",
   "execution_count": 13,
   "metadata": {
    "id": "J3f1Vs8f13H9"
   },
   "outputs": [
    {
     "data": {
      "text/html": [
       "<div>\n",
       "<style scoped>\n",
       "    .dataframe tbody tr th:only-of-type {\n",
       "        vertical-align: middle;\n",
       "    }\n",
       "\n",
       "    .dataframe tbody tr th {\n",
       "        vertical-align: top;\n",
       "    }\n",
       "\n",
       "    .dataframe thead th {\n",
       "        text-align: right;\n",
       "    }\n",
       "</style>\n",
       "<table border=\"1\" class=\"dataframe\">\n",
       "  <thead>\n",
       "    <tr style=\"text-align: right;\">\n",
       "      <th></th>\n",
       "      <th>Days passed from post</th>\n",
       "      <th>Type</th>\n",
       "      <th>Numer of Tags</th>\n",
       "      <th>Numer of Comments</th>\n",
       "      <th>Year</th>\n",
       "      <th>Month</th>\n",
       "      <th>Day</th>\n",
       "    </tr>\n",
       "  </thead>\n",
       "  <tbody>\n",
       "    <tr>\n",
       "      <th>0</th>\n",
       "      <td>657</td>\n",
       "      <td>0</td>\n",
       "      <td>3</td>\n",
       "      <td>11</td>\n",
       "      <td>2019</td>\n",
       "      <td>5</td>\n",
       "      <td>12</td>\n",
       "    </tr>\n",
       "    <tr>\n",
       "      <th>1</th>\n",
       "      <td>657</td>\n",
       "      <td>0</td>\n",
       "      <td>0</td>\n",
       "      <td>1</td>\n",
       "      <td>2019</td>\n",
       "      <td>5</td>\n",
       "      <td>12</td>\n",
       "    </tr>\n",
       "    <tr>\n",
       "      <th>2</th>\n",
       "      <td>666</td>\n",
       "      <td>1</td>\n",
       "      <td>4</td>\n",
       "      <td>15</td>\n",
       "      <td>2019</td>\n",
       "      <td>5</td>\n",
       "      <td>3</td>\n",
       "    </tr>\n",
       "    <tr>\n",
       "      <th>3</th>\n",
       "      <td>667</td>\n",
       "      <td>1</td>\n",
       "      <td>4</td>\n",
       "      <td>1</td>\n",
       "      <td>2019</td>\n",
       "      <td>5</td>\n",
       "      <td>2</td>\n",
       "    </tr>\n",
       "    <tr>\n",
       "      <th>4</th>\n",
       "      <td>674</td>\n",
       "      <td>1</td>\n",
       "      <td>5</td>\n",
       "      <td>0</td>\n",
       "      <td>2019</td>\n",
       "      <td>4</td>\n",
       "      <td>25</td>\n",
       "    </tr>\n",
       "    <tr>\n",
       "      <th>...</th>\n",
       "      <td>...</td>\n",
       "      <td>...</td>\n",
       "      <td>...</td>\n",
       "      <td>...</td>\n",
       "      <td>...</td>\n",
       "      <td>...</td>\n",
       "      <td>...</td>\n",
       "    </tr>\n",
       "    <tr>\n",
       "      <th>1995</th>\n",
       "      <td>186</td>\n",
       "      <td>0</td>\n",
       "      <td>0</td>\n",
       "      <td>84</td>\n",
       "      <td>2020</td>\n",
       "      <td>8</td>\n",
       "      <td>25</td>\n",
       "    </tr>\n",
       "    <tr>\n",
       "      <th>1996</th>\n",
       "      <td>193</td>\n",
       "      <td>2</td>\n",
       "      <td>4</td>\n",
       "      <td>5</td>\n",
       "      <td>2020</td>\n",
       "      <td>8</td>\n",
       "      <td>18</td>\n",
       "    </tr>\n",
       "    <tr>\n",
       "      <th>1997</th>\n",
       "      <td>194</td>\n",
       "      <td>0</td>\n",
       "      <td>4</td>\n",
       "      <td>13</td>\n",
       "      <td>2020</td>\n",
       "      <td>8</td>\n",
       "      <td>17</td>\n",
       "    </tr>\n",
       "    <tr>\n",
       "      <th>1998</th>\n",
       "      <td>197</td>\n",
       "      <td>1</td>\n",
       "      <td>0</td>\n",
       "      <td>38</td>\n",
       "      <td>2020</td>\n",
       "      <td>8</td>\n",
       "      <td>14</td>\n",
       "    </tr>\n",
       "    <tr>\n",
       "      <th>1999</th>\n",
       "      <td>198</td>\n",
       "      <td>1</td>\n",
       "      <td>5</td>\n",
       "      <td>5</td>\n",
       "      <td>2020</td>\n",
       "      <td>8</td>\n",
       "      <td>13</td>\n",
       "    </tr>\n",
       "  </tbody>\n",
       "</table>\n",
       "<p>2000 rows × 7 columns</p>\n",
       "</div>"
      ],
      "text/plain": [
       "      Days passed from post  Type  Numer of Tags  Numer of Comments  Year  \\\n",
       "0                       657     0              3                 11  2019   \n",
       "1                       657     0              0                  1  2019   \n",
       "2                       666     1              4                 15  2019   \n",
       "3                       667     1              4                  1  2019   \n",
       "4                       674     1              5                  0  2019   \n",
       "...                     ...   ...            ...                ...   ...   \n",
       "1995                    186     0              0                 84  2020   \n",
       "1996                    193     2              4                  5  2020   \n",
       "1997                    194     0              4                 13  2020   \n",
       "1998                    197     1              0                 38  2020   \n",
       "1999                    198     1              5                  5  2020   \n",
       "\n",
       "      Month  Day  \n",
       "0         5   12  \n",
       "1         5   12  \n",
       "2         5    3  \n",
       "3         5    2  \n",
       "4         4   25  \n",
       "...     ...  ...  \n",
       "1995      8   25  \n",
       "1996      8   18  \n",
       "1997      8   17  \n",
       "1998      8   14  \n",
       "1999      8   13  \n",
       "\n",
       "[2000 rows x 7 columns]"
      ]
     },
     "execution_count": 13,
     "metadata": {},
     "output_type": "execute_result"
    }
   ],
   "source": [
    "# your featuers X:\n",
    "X = insta_df.loc[:, insta_df.columns != 'Likes']\n",
    "##\n",
    "X"
   ]
  },
  {
   "cell_type": "code",
   "execution_count": 14,
   "metadata": {
    "id": "o0OnXQPR13H9"
   },
   "outputs": [
    {
     "data": {
      "text/plain": [
       "0       506\n",
       "1       385\n",
       "2       373\n",
       "3       312\n",
       "4       513\n",
       "       ... \n",
       "1995     58\n",
       "1996     81\n",
       "1997    251\n",
       "1998    962\n",
       "1999    179\n",
       "Name: Likes, Length: 2000, dtype: int64"
      ]
     },
     "execution_count": 14,
     "metadata": {},
     "output_type": "execute_result"
    }
   ],
   "source": [
    "# your target y:\n",
    "y = insta_df.loc[:,'Likes']\n",
    "##\n",
    "y"
   ]
  },
  {
   "cell_type": "markdown",
   "metadata": {
    "id": "6zbuc5FU13H9"
   },
   "source": [
    "    11- Checking for Multicollinearity for features (X) using a correlation matrix. (1 points)"
   ]
  },
  {
   "cell_type": "code",
   "execution_count": 15,
   "metadata": {
    "id": "AuIqmwnw13H-"
   },
   "outputs": [
    {
     "data": {
      "text/plain": [
       "<Axes: >"
      ]
     },
     "execution_count": 15,
     "metadata": {},
     "output_type": "execute_result"
    },
    {
     "data": {
      "image/png": "[encoded data removed]",
      "text/plain": [
       "<Figure size 1170x827 with 2 Axes>"
      ]
     },
     "metadata": {},
     "output_type": "display_data"
    }
   ],
   "source": [
    "# write your code here:\n",
    "corr = insta_df.corr().round(2)\n",
    "sns.set(rc={'figure.figsize':(11.7,8.27)})\n",
    "sns.heatmap(data=corr, annot=True)"
   ]
  },
  {
   "cell_type": "markdown",
   "metadata": {
    "id": "1rUf45QJ13H-"
   },
   "source": [
    "    12- From the above pairplot, what did you observe? ( 1 points)\n",
    "\n",
    "##### Write your answer here:\n",
    "My Observations is that:\n",
    "\n",
    "There is a strong relation between the features Year, Days passed from post (0.94)"
   ]
  },
  {
   "cell_type": "markdown",
   "metadata": {
    "id": "OexfiW2g13H-"
   },
   "source": [
    "    13- Use a scatter plot to check each feature's relationship with the target variable, Likes. (1 points)"
   ]
  },
  {
   "cell_type": "code",
   "execution_count": 16,
   "metadata": {
    "id": "4ML8vFoo13H-"
   },
   "outputs": [
    {
     "data": {
      "image/png": "[encoded data removed]",
      "text/plain": [
       "<Figure size 2500x1500 with 7 Axes>"
      ]
     },
     "metadata": {},
     "output_type": "display_data"
    }
   ],
   "source": [
    "# write your code here\n",
    "plt.figure(figsize = ( 25 , 15 )) \n",
    "features = list (X) \n",
    "for i, col in enumerate (features): \n",
    "    plt.subplot(3 , 4 ,i +1 ) \n",
    "    x = insta_df[col] \n",
    "    y = y \n",
    "    plt.scatter(x, y, marker = 'o' )\n",
    "    plt.xlabel(col) \n",
    "    plt.ylabel('Likes')"
   ]
  },
  {
   "cell_type": "markdown",
   "metadata": {
    "id": "gv51MgdM13H-"
   },
   "source": [
    "    14- From the above pairplot, what did you observe? ( 1 points)\n",
    "\n",
    "\n",
    "##### Write your answer here:\n",
    "\n",
    "My Observations are:\n",
    "1. Number of comments and Days passed from post are linearly related negatively.\n",
    "2. Year is exponential.\n",
    "3. Month, Day and Number of tags are continous."
   ]
  },
  {
   "cell_type": "markdown",
   "metadata": {
    "id": "sEqOlvu_13H-"
   },
   "source": [
    "    15- Display the target distribution using histogram (1 points)"
   ]
  },
  {
   "cell_type": "code",
   "execution_count": 17,
   "metadata": {
    "id": "YTfPCGV713H-"
   },
   "outputs": [
    {
     "data": {
      "image/png": "[encoded data removed]",
      "text/plain": [
       "<Figure size 1170x827 with 1 Axes>"
      ]
     },
     "metadata": {},
     "output_type": "display_data"
    }
   ],
   "source": [
    "# write your code here:\n",
    "target_distribution = insta_df.loc[:,'Likes']\n",
    "num_bins = 30\n",
    "\n",
    "# Create the histogram plot\n",
    "plt.hist(target_distribution, bins=num_bins)\n",
    "\n",
    "# Add axis labels and a title\n",
    "plt.xlabel('Likes')\n",
    "plt.ylabel('Frequency')\n",
    "plt.title('Target Distribution')\n",
    "\n",
    "# Show the plot\n",
    "plt.show()"
   ]
  },
  {
   "cell_type": "markdown",
   "metadata": {
    "id": "LsU1sL0r13H_"
   },
   "source": [
    "    16- From the above histogram, what did you observe about the target distribution? ( 1 point)\n",
    "    \n",
    "\n",
    "##### Write your answer here:\n",
    "My Observations are:\n",
    "\n",
    "1. Likes is exponential."
   ]
  },
  {
   "cell_type": "markdown",
   "metadata": {
    "id": "SwQC-LFV13H_"
   },
   "source": [
    "    17-Transfer the target y into log to have the normal distributions: (1 point)"
   ]
  },
  {
   "cell_type": "code",
   "execution_count": 18,
   "metadata": {
    "id": "37uNhh_a13H_"
   },
   "outputs": [
    {
     "data": {
      "image/png": "[encoded data removed]",
      "text/plain": [
       "<Figure size 1170x827 with 1 Axes>"
      ]
     },
     "metadata": {},
     "output_type": "display_data"
    }
   ],
   "source": [
    "#transfer the target y into log\n",
    "#insta_df['Likes'] = np.log(insta_df['Likes'])\n",
    "y=np.log(y)\n",
    "target_distribution = y\n",
    "num_bins = 30\n",
    "\n",
    "# Create the histogram plot\n",
    "plt.hist(target_distribution, bins=num_bins)\n",
    "\n",
    "# Add axis labels and a title\n",
    "plt.xlabel('Likes')\n",
    "plt.ylabel('Frequency')\n",
    "plt.title('Target Distribution')\n",
    "\n",
    "# Show the plot\n",
    "plt.show()"
   ]
  },
  {
   "cell_type": "markdown",
   "metadata": {
    "id": "Uzzc9lR013H_"
   },
   "source": [
    "### Preparing the machine learning pipeline\n"
   ]
  },
  {
   "cell_type": "markdown",
   "metadata": {
    "id": "X8fzxpWL13H_"
   },
   "source": [
    "    18- Splitting the data into training 80% and testing sets 20%. (1 point)\n",
    "        * print the sizes of our training and test set to verify if the splitting has occurred properly. (1 point)"
   ]
  },
  {
   "cell_type": "code",
   "execution_count": 19,
   "metadata": {
    "id": "Bc1YDei813H_"
   },
   "outputs": [
    {
     "name": "stdout",
     "output_type": "stream",
     "text": [
      "(1600, 7)\n",
      "(400, 7)\n",
      "(1600,)\n",
      "(400,)\n"
     ]
    }
   ],
   "source": [
    "# Splitting the data:\n",
    "from sklearn.model_selection import train_test_split\n",
    "X_train, X_test, y_train, y_test = train_test_split(X, y, test_size = 0.2, random_state=42)\n",
    "# print the sizes of our training and test set:\n",
    "print(X_train.shape)\n",
    "print(X_test.shape)\n",
    "print(y_train.shape)\n",
    "print(y_test.shape)"
   ]
  },
  {
   "cell_type": "markdown",
   "metadata": {
    "id": "FZe1eoav13IA"
   },
   "source": [
    "    19- Use Pipeline class with the cross-validation to fit the scaling on only the training dataset and evaluate the linear regression model, (Use k=10 and MSE as your metric)( 2 point)\n",
    "\n",
    "        * 'neg_mean_squared_error' returns the negated value of the MSE; make sure to take the absolute to get the positive one (1 point)\n",
    "        * print the average MSE (1 point)"
   ]
  },
  {
   "cell_type": "code",
   "execution_count": 20,
   "metadata": {
    "id": "ubV5evkp13IA"
   },
   "outputs": [
    {
     "name": "stdout",
     "output_type": "stream",
     "text": [
      "Average 10-Fold CV R2 Score: 0.2965590495392634\n",
      "Average 10-Fold CV MSE Score: 1.2232217925231532\n"
     ]
    }
   ],
   "source": [
    "# writer your code here:\n",
    "from sklearn.model_selection import cross_val_score\n",
    "from sklearn.pipeline import make_pipeline\n",
    "from sklearn.linear_model import LinearRegression\n",
    "from sklearn.preprocessing import StandardScaler\n",
    "\n",
    "pipeline = make_pipeline(StandardScaler(), LinearRegression())\n",
    "scores_pipe_1 = cross_val_score(pipeline, X_train, y_train,cv=10)\n",
    "print(\"Average 10-Fold CV R2 Score: {}\".format((np.mean(scores_pipe_1)) ))\n",
    "scores_pipe_2 = cross_val_score(pipeline, X_train, y_train,cv=10, scoring='neg_mean_squared_error') # this return the negated value of the MSE, make sure to multiply it by -1 to get the positive one\n",
    "print(\"Average 10-Fold CV MSE Score: {}\".format(-1*(np.mean(scores_pipe_2)) ))"
   ]
  },
  {
   "cell_type": "markdown",
   "metadata": {
    "id": "b73aw1qi13IA"
   },
   "source": [
    "    20- Hyperparameters tuning using GridSearchCV (Use k=10 and MSE as your metric):\n",
    "\n",
    "        A. Ridge regression:\n",
    "            * Find out the best value of α’s (-3, -2, 1, 2, 3) for Ridge regression (1 point)\n",
    "            * print the best score and the best alpha value (1 point)"
   ]
  },
  {
   "cell_type": "code",
   "execution_count": 21,
   "metadata": {
    "id": "1XaXrcE113IA"
   },
   "outputs": [
    {
     "name": "stdout",
     "output_type": "stream",
     "text": [
      "Best score: 1.2232192817093868\n",
      "Best alpha value: 0.001\n"
     ]
    }
   ],
   "source": [
    "# write your code here:\n",
    "import warnings\n",
    "from sklearn.linear_model import Ridge\n",
    "from sklearn.model_selection import GridSearchCV\n",
    "from sklearn.datasets import make_regression\n",
    "from sklearn.linear_model import HuberRegressor\n",
    "\n",
    "# write your code here:\n",
    "with warnings.catch_warnings():\n",
    "  # ignore all caught warnings\n",
    "  warnings.filterwarnings(\"ignore\")\n",
    "  ridge = Ridge()\n",
    "  param_grid = {'alpha': np.logspace(-3,3,10)}\n",
    "  grid_search = GridSearchCV(estimator=ridge, param_grid=param_grid, cv=10, scoring='neg_mean_squared_error')\n",
    "  grid_search.fit(X_train, y_train)\n",
    "  print(\"Best score:\", -grid_search.best_score_)\n",
    "  print(\"Best alpha value:\", grid_search.best_params_['alpha'])"
   ]
  },
  {
   "cell_type": "markdown",
   "metadata": {
    "id": "1rRFGs3a13IA"
   },
   "source": [
    "        B. Lasso:\n",
    "            * Find out the best value of α’s (-3, -2, 1, 2, 3) for Lasso method. (1 point)\n",
    "            * print the best score and the best alpha value (1 point)"
   ]
  },
  {
   "cell_type": "code",
   "execution_count": 22,
   "metadata": {
    "id": "aofLi-aq13IB"
   },
   "outputs": [
    {
     "name": "stdout",
     "output_type": "stream",
     "text": [
      "Best score: 1.2772322011899504\n",
      "Best alpha value: 1\n"
     ]
    }
   ],
   "source": [
    "# write your code here:\n",
    "from sklearn.linear_model import Lasso\n",
    "\n",
    "with warnings.catch_warnings():\n",
    "  # ignore all caught warnings\n",
    "    warnings.filterwarnings(\"ignore\")\n",
    "    lasso = Lasso()\n",
    "    param_grid = {'alpha': [-3, -2, 1, 2, 3]}\n",
    "    grid_search = GridSearchCV(estimator=lasso, param_grid=param_grid, cv=10, scoring='neg_mean_squared_error')\n",
    "    grid_search.fit(X_train, y_train)\n",
    "    print(\"Best score:\", -grid_search.best_score_)\n",
    "    print(\"Best alpha value:\", grid_search.best_params_['alpha'])"
   ]
  },
  {
   "cell_type": "markdown",
   "metadata": {
    "id": "ga1vBFZU13IB"
   },
   "source": [
    "#### Robust regression"
   ]
  },
  {
   "cell_type": "markdown",
   "metadata": {
    "id": "F_e8kUGW13IB"
   },
   "source": [
    "      21- Use Pipeline class with the cross-validation with k= 10 to fit the scaling on only the training dataset, and evaluate the models using 'neg_mean_squared_error':\n",
    "    \n",
    "            A.  The Huber regression model module ( 1 points)\n",
    "                * print the absolute average MSE (1 point)"
   ]
  },
  {
   "cell_type": "code",
   "execution_count": 23,
   "metadata": {
    "id": "NAXOVc_Q13IB"
   },
   "outputs": [
    {
     "name": "stdout",
     "output_type": "stream",
     "text": [
      "Average 10-Fold CV MSE Score for Huber regression: 2.690920654967975\n"
     ]
    }
   ],
   "source": [
    "# write your code here:\n",
    "from sklearn.linear_model import HuberRegressor, RANSACRegressor\n",
    "from numpy import mean\n",
    "from numpy import std\n",
    "from numpy import absolute\n",
    "pipeline_huber = make_pipeline(StandardScaler(), HuberRegressor())\n",
    "scores_huber = cross_val_score(pipeline_huber, X, y, scoring='neg_mean_squared_error', cv=10)\n",
    "#force scores to be positive\n",
    "print(\"Average 10-Fold CV MSE Score for Huber regression: {}\".format(absolute((np.mean(scores_huber)) )))"
   ]
  },
  {
   "cell_type": "markdown",
   "metadata": {
    "id": "By5bWePS13IB"
   },
   "source": [
    "        B.  The RANSAC regression model modle ( 1 point)\n",
    "            * print the absolute avarge MSE (1 point)"
   ]
  },
  {
   "cell_type": "code",
   "execution_count": 24,
   "metadata": {
    "id": "VWyKds4g13IB"
   },
   "outputs": [
    {
     "name": "stdout",
     "output_type": "stream",
     "text": [
      "Average MSE Score for RANSAC Regression: 10.995548865749381\n"
     ]
    }
   ],
   "source": [
    "# write your code here:\n",
    "pipeline_ransac = make_pipeline(StandardScaler(),RANSACRegressor())\n",
    "scores_RANSAC = cross_val_score(pipeline_ransac,X, y, scoring='neg_mean_squared_error', cv=10)\n",
    "print(\"Average MSE Score for RANSAC Regression: {}\".format(absolute((np.mean(scores_RANSAC )) )))"
   ]
  },
  {
   "cell_type": "markdown",
   "metadata": {
    "id": "UpBaoPEl13IB"
   },
   "source": [
    "    22- From the above models you validated using cross-validation, which model performed very well on average? (1 point)         \n",
    "\n",
    "##### Write your answer here:\n",
    "My Observations are:\n",
    "->From observing all the MSE values I can conclude that Ridge regression is better as error value is less."
   ]
  },
  {
   "cell_type": "markdown",
   "metadata": {
    "id": "LsyZOP3R13IC"
   },
   "source": [
    "    23- Use the Best model to build/fit your final model using your train-data.(5 points)"
   ]
  },
  {
   "cell_type": "code",
   "execution_count": 25,
   "metadata": {
    "id": "ayCJZr-n13IC"
   },
   "outputs": [],
   "source": [
    "# write your code here:\n",
    "ridge = Ridge().fit(X_train, y_train)"
   ]
  },
  {
   "cell_type": "markdown",
   "metadata": {
    "id": "LcOs3djI13IC"
   },
   "source": [
    "    24- Predict the number of likes for test data and compute the MSE (5 points)"
   ]
  },
  {
   "cell_type": "code",
   "execution_count": 26,
   "metadata": {
    "id": "xxs-tNOr13IC"
   },
   "outputs": [
    {
     "name": "stdout",
     "output_type": "stream",
     "text": [
      "Mean squared Error:  1.2811552772555956\n"
     ]
    }
   ],
   "source": [
    "# write your code here:\n",
    "from sklearn.metrics import mean_squared_error\n",
    "y_pred = ridge.predict(X_test)\n",
    "mean_squared_error = mean_squared_error(y_test, y_pred)\n",
    "print(\"Mean squared Error: \", mean_squared_error)"
   ]
  },
  {
   "cell_type": "markdown",
   "metadata": {
    "id": "bFQ5dyIR13IC"
   },
   "source": [
    "    25- Write a conclusion about building a good model for predicting the number of likes using Instagram Users Datetime Posts. (10 points)\n",
    "\n",
    "       your conclusion should include:\n",
    "        * why a specific model performs better than other models and why a regression algorithm works well with this dataset.\n",
    "        * Did Robust regression algorithms outperformance the linear regression baseline or linear regression after applying Shrinkage Methods? Why?\n",
    "\n",
    "    Write a summary of what you understand about linear regression and cross-validation."
   ]
  },
  {
   "cell_type": "markdown",
   "metadata": {
    "id": "RcEWfFvz13IC"
   },
   "source": [
    "-->To build an effective model for predicting the number of likes on Instagram posts using the dataframe, one needs to consider the data characteristics, model complexity, and interpretability of the results. It is also important to choose the appropriate evaluation metrics such as MSE, RMSE, and MAE, depending on the specific goals of the analysis. Therefore, a successful model requires a combination of preprocessing, feature engineering, model selection, and evaluation metrics to produce accurate results. By using the right combination of these techniques, it is possible to create a reliable and precise model for predicting the number of likes on Instagram posts.\n",
    "\n",
    "-->Regression algorithms are well-suited for the Instagram dataset because they are specifically designed to predict continuous numerical values, which is the case for the number of likes. This makes them a logical choice for this type of dataset. Additionally, regression algorithms are commonly used in data analysis due to their ability to provide clear and understandable results that help to explain the relationship between independent and dependent variables. By using a regression algorithm, it is possible to obtain valuable insights into the factors that influence the number of likes on Instagram posts.\n",
    "\n",
    "-->In my observations Robust regression didnot outperform the Linear regression or after applying Shrinkage methods. Because the Mean Squared Error value is less for the ridge regression which is after applying shrinkage methods."
   ]
  },
  {
   "cell_type": "markdown",
   "metadata": {
    "id": "zM8jY2rp13ID"
   },
   "source": [
    "---\n",
    "## All set\n",
    "\n",
    "Please make sure you execute each cell before you submit your file; this is important becuse if your code didn't work on our machine for an unknown reason, it would be better to see the result rather than losing some points or wasting time to contact you to fix this issue.\n",
    "\n",
    "What to submit:\n",
    "\n",
    "* Your Jupyter Notebook file.\n",
    "* Name your file as firstname_lastname_pj_1 .\n",
    "---"
   ]
  }
 ],
 "metadata": {
  "colab": {
   "provenance": []
  },
  "interpreter": {
   "hash": "9be90a182e443121e767cfcadea61fa0eeced8ec62a9bd8ae9861f6c1d839655"
  },
  "kernelspec": {
   "display_name": "Python 3 (ipykernel)",
   "language": "python",
   "name": "python3"
  },
  "language_info": {
   "codemirror_mode": {
    "name": "ipython",
    "version": 3
   },
   "file_extension": ".py",
   "mimetype": "text/x-python",
   "name": "python",
   "nbconvert_exporter": "python",
   "pygments_lexer": "ipython3",
   "version": "3.10.9"
  }
 },
 "nbformat": 4,
 "nbformat_minor": 1
}
