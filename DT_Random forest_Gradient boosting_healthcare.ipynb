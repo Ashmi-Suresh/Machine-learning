{
 "cells": [
  {
   "cell_type": "markdown",
   "metadata": {
    "id": "hNuQqd2YmV03"
   },
   "source": [
    "<img src=\"../src/packt-banner.png\" alt=\"\">"
   ]
  },
  {
   "cell_type": "markdown",
   "metadata": {
    "id": "NmADGEPKmV04"
   },
   "source": [
    "### Exercise 4: Build a DT, Random forest, and  Gradient Boosting modles\n",
    "##### (25 points) --> your total will divided by 5 to get 5 points for this exercise.\n",
    "\n",
    "##### Some steps have been done for you since they are initial and repeated steps or to show you how to use some new methods you have not done before\n",
    "---\n",
    "\n",
    "##### **Medical Appointment No Shows**\n",
    "In this Exercise we will be incorporating the Medical Appointment No-Shows dataset\n",
    "\n",
    "**Dataset:**\n",
    "You can find the dataset (No-show-Issue-Comma-300k.csv) under the datasets section on the Canvas.\n",
    "\n",
    "**About Dataset**\n",
    "Context\n",
    "A person makes a doctor appointment, receives all the instructions and no-show. Who to blame?\n",
    "\n",
    "\n",
    "Content\n",
    "110.527 medical appointments its 14 associated variables (characteristics).\n",
    "The most important one if the patient show-up or no-show to the appointment. Variable names are self-explanatory,"
   ]
  },
  {
   "cell_type": "markdown",
   "metadata": {
    "id": "RLC7OT735lXp"
   },
   "source": [
    "#### Problem:\n",
    "\n",
    "Dr. Judy, a pediatric surgeon and clinic supervisor at Ohio Clinic, was in big trouble, facing clinic losses for the third consecutive year. Dr. Judy had recently been promoted to this position, but she knew for a fact that the clinic had been doing due diligence in terms of efficiency. What surprised her most was that the hospital was incurring losses despite having the finest doctors available and no lack of scheduled appointments. To be reassured about the financial side of things, she hired a third-party firm to audit the finance department. However, the firm found no evidence pertaining to the dilemma at hand.\n",
    "\n",
    "A board meeting was expected soon and she had to gather insights by then to give a reason to this anomaly. Dr. Judy knew that neither speculations nor rumors would enable her to figure out the reason for the losses despite the number of scheduled appointments. To further investigate her suspicions, she obtained the data dump of appointments, and decided to use the data to validate the evidence. She knew that concrete data is not subject to bias and thus would provide a clear picture of the situation at hand. First she had to cross-check whether the features within the dataset were relevant to the problem at hand. Hence she fetched the data dictionary in Table"
   ]
  },
  {
   "cell_type": "markdown",
   "metadata": {
    "id": "BR8Xn-XAmV05"
   },
   "source": [
    "### Step to do:"
   ]
  },
  {
   "cell_type": "code",
   "execution_count": 184,
   "metadata": {},
   "outputs": [
    {
     "name": "stdout",
     "output_type": "stream",
     "text": [
      "Requirement already satisfied: xgboost in /Users/ashmibidrupanesuresh/anaconda3/lib/python3.10/site-packages (2.0.1)\n",
      "Requirement already satisfied: numpy in /Users/ashmibidrupanesuresh/anaconda3/lib/python3.10/site-packages (from xgboost) (1.23.5)\n",
      "Requirement already satisfied: scipy in /Users/ashmibidrupanesuresh/anaconda3/lib/python3.10/site-packages (from xgboost) (1.10.0)\n",
      "Note: you may need to restart the kernel to use updated packages.\n"
     ]
    }
   ],
   "source": [
    "pip install xgboost"
   ]
  },
  {
   "cell_type": "markdown",
   "metadata": {
    "id": "bO4pnQdXmV05"
   },
   "source": [
    "        1. Importing Packages Required:\n",
    "       "
   ]
  },
  {
   "cell_type": "code",
   "execution_count": 185,
   "metadata": {
    "id": "pbSGBSnW5lXq"
   },
   "outputs": [],
   "source": [
    "\n",
    "\n",
    "%matplotlib inline\n",
    "\n",
    "import numpy as np\n",
    "import pandas as pd\n",
    "from time import time\n",
    "import matplotlib.pyplot as plt\n",
    "from IPython.display import Image\n",
    "from matplotlib.pylab import rcParams\n",
    "\n",
    "from sklearn import metrics\n",
    "from sklearn.model_selection import train_test_split\n",
    "\n",
    "from sklearn.tree import DecisionTreeClassifier\n",
    "\n",
    "from sklearn.ensemble import GradientBoostingClassifier, RandomForestClassifier\n",
    "from xgboost import XGBClassifier\n",
    "\n",
    "rcParams['figure.figsize'] = 15, 5"
   ]
  },
  {
   "cell_type": "markdown",
   "metadata": {
    "id": "VzZGiazm5lXr"
   },
   "source": [
    "Dr. Judy put her faith in the data dump and loaded it into the computer’s memory. She also made sure to print the first initial observations from the data dump."
   ]
  },
  {
   "cell_type": "markdown",
   "metadata": {
    "id": "ncdk2Q_cmV06"
   },
   "source": [
    "        2- Reading the Data in the Memory and Printing the First Few Observations"
   ]
  },
  {
   "cell_type": "code",
   "execution_count": 186,
   "metadata": {
    "id": "maDYsJPqmV06",
    "outputId": "efcdbb1a-42bf-4789-cb29-f4dd2550cbc7"
   },
   "outputs": [
    {
     "data": {
      "text/html": [
       "<div>\n",
       "<style scoped>\n",
       "    .dataframe tbody tr th:only-of-type {\n",
       "        vertical-align: middle;\n",
       "    }\n",
       "\n",
       "    .dataframe tbody tr th {\n",
       "        vertical-align: top;\n",
       "    }\n",
       "\n",
       "    .dataframe thead th {\n",
       "        text-align: right;\n",
       "    }\n",
       "</style>\n",
       "<table border=\"1\" class=\"dataframe\">\n",
       "  <thead>\n",
       "    <tr style=\"text-align: right;\">\n",
       "      <th></th>\n",
       "      <th>Age</th>\n",
       "      <th>Gender</th>\n",
       "      <th>AppointmentRegistration</th>\n",
       "      <th>ApointmentData</th>\n",
       "      <th>DayOfTheWeek</th>\n",
       "      <th>Status</th>\n",
       "      <th>Diabetes</th>\n",
       "      <th>Alcoolism</th>\n",
       "      <th>HiperTension</th>\n",
       "      <th>Handcap</th>\n",
       "      <th>Smokes</th>\n",
       "      <th>Scholarship</th>\n",
       "      <th>Tuberculosis</th>\n",
       "      <th>Sms_Reminder</th>\n",
       "      <th>AwaitingTime</th>\n",
       "    </tr>\n",
       "  </thead>\n",
       "  <tbody>\n",
       "    <tr>\n",
       "      <th>0</th>\n",
       "      <td>19</td>\n",
       "      <td>M</td>\n",
       "      <td>2014-12-16T14:46:25Z</td>\n",
       "      <td>2015-01-14T00:00:00Z</td>\n",
       "      <td>Wednesday</td>\n",
       "      <td>Show-Up</td>\n",
       "      <td>0</td>\n",
       "      <td>0</td>\n",
       "      <td>0</td>\n",
       "      <td>0</td>\n",
       "      <td>0</td>\n",
       "      <td>0</td>\n",
       "      <td>0</td>\n",
       "      <td>0</td>\n",
       "      <td>-29</td>\n",
       "    </tr>\n",
       "    <tr>\n",
       "      <th>1</th>\n",
       "      <td>24</td>\n",
       "      <td>F</td>\n",
       "      <td>2015-08-18T07:01:26Z</td>\n",
       "      <td>2015-08-19T00:00:00Z</td>\n",
       "      <td>Wednesday</td>\n",
       "      <td>Show-Up</td>\n",
       "      <td>0</td>\n",
       "      <td>0</td>\n",
       "      <td>0</td>\n",
       "      <td>0</td>\n",
       "      <td>0</td>\n",
       "      <td>0</td>\n",
       "      <td>0</td>\n",
       "      <td>0</td>\n",
       "      <td>-1</td>\n",
       "    </tr>\n",
       "    <tr>\n",
       "      <th>2</th>\n",
       "      <td>4</td>\n",
       "      <td>F</td>\n",
       "      <td>2014-02-17T12:53:46Z</td>\n",
       "      <td>2014-02-18T00:00:00Z</td>\n",
       "      <td>Tuesday</td>\n",
       "      <td>Show-Up</td>\n",
       "      <td>0</td>\n",
       "      <td>0</td>\n",
       "      <td>0</td>\n",
       "      <td>0</td>\n",
       "      <td>0</td>\n",
       "      <td>0</td>\n",
       "      <td>0</td>\n",
       "      <td>0</td>\n",
       "      <td>-1</td>\n",
       "    </tr>\n",
       "    <tr>\n",
       "      <th>3</th>\n",
       "      <td>5</td>\n",
       "      <td>M</td>\n",
       "      <td>2014-07-23T17:02:11Z</td>\n",
       "      <td>2014-08-07T00:00:00Z</td>\n",
       "      <td>Thursday</td>\n",
       "      <td>Show-Up</td>\n",
       "      <td>0</td>\n",
       "      <td>0</td>\n",
       "      <td>0</td>\n",
       "      <td>0</td>\n",
       "      <td>0</td>\n",
       "      <td>0</td>\n",
       "      <td>0</td>\n",
       "      <td>1</td>\n",
       "      <td>-15</td>\n",
       "    </tr>\n",
       "    <tr>\n",
       "      <th>4</th>\n",
       "      <td>38</td>\n",
       "      <td>M</td>\n",
       "      <td>2015-10-21T15:20:09Z</td>\n",
       "      <td>2015-10-27T00:00:00Z</td>\n",
       "      <td>Tuesday</td>\n",
       "      <td>Show-Up</td>\n",
       "      <td>0</td>\n",
       "      <td>0</td>\n",
       "      <td>0</td>\n",
       "      <td>0</td>\n",
       "      <td>0</td>\n",
       "      <td>0</td>\n",
       "      <td>0</td>\n",
       "      <td>1</td>\n",
       "      <td>-6</td>\n",
       "    </tr>\n",
       "  </tbody>\n",
       "</table>\n",
       "</div>"
      ],
      "text/plain": [
       "   Age Gender AppointmentRegistration        ApointmentData DayOfTheWeek   Status  Diabetes  \\\n",
       "0   19      M    2014-12-16T14:46:25Z  2015-01-14T00:00:00Z    Wednesday  Show-Up         0   \n",
       "1   24      F    2015-08-18T07:01:26Z  2015-08-19T00:00:00Z    Wednesday  Show-Up         0   \n",
       "2    4      F    2014-02-17T12:53:46Z  2014-02-18T00:00:00Z      Tuesday  Show-Up         0   \n",
       "3    5      M    2014-07-23T17:02:11Z  2014-08-07T00:00:00Z     Thursday  Show-Up         0   \n",
       "4   38      M    2015-10-21T15:20:09Z  2015-10-27T00:00:00Z      Tuesday  Show-Up         0   \n",
       "\n",
       "   Alcoolism  HiperTension  Handcap  Smokes  Scholarship  Tuberculosis  Sms_Reminder  AwaitingTime  \n",
       "0          0             0        0       0            0             0             0           -29  \n",
       "1          0             0        0       0            0             0             0            -1  \n",
       "2          0             0        0       0            0             0             0            -1  \n",
       "3          0             0        0       0            0             0             1           -15  \n",
       "4          0             0        0       0            0             0             1            -6  "
      ]
     },
     "execution_count": 186,
     "metadata": {},
     "output_type": "execute_result"
    }
   ],
   "source": [
    "data = pd.read_csv('No-show-Issue-Comma-300k.csv')\n",
    "data.head()"
   ]
  },
  {
   "cell_type": "markdown",
   "metadata": {
    "id": "4Ld-9sJJmV07"
   },
   "source": [
    "### Features’ Exploration:"
   ]
  },
  {
   "cell_type": "markdown",
   "metadata": {
    "id": "ibrKEc3P5lXs"
   },
   "source": [
    "She anticipated the records within the data dump to be in thousands as she noticed that the appointment calendars were usually full at the start of every month. She decided to validate that"
   ]
  },
  {
   "cell_type": "markdown",
   "metadata": {
    "id": "exO8FPfH5lXs"
   },
   "source": [
    "        3- Finding Count of Number of Observations in the Dataset."
   ]
  },
  {
   "cell_type": "code",
   "execution_count": 187,
   "metadata": {
    "id": "9NP4mFBj5lXs",
    "outputId": "92799392-4af9-4429-a369-3d894959b9ef"
   },
   "outputs": [
    {
     "data": {
      "text/plain": [
       "300000"
      ]
     },
     "execution_count": 187,
     "metadata": {},
     "output_type": "execute_result"
    }
   ],
   "source": [
    "len(data)"
   ]
  },
  {
   "cell_type": "markdown",
   "metadata": {
    "id": "FbZp9_US5lXt"
   },
   "source": [
    "The above output was way above Dr. Judy’s expectations and reassured her of the fact that insights gained from the data will have a high confidence level. Next she planned on observing the number of distinct values within each of the features. She believed this would help her to drop the features that offered no variability (i.e., having same value for all observations) and to decide upon the types of plots these features could be represented in."
   ]
  },
  {
   "cell_type": "markdown",
   "metadata": {
    "id": "96EpPkqI5lXt"
   },
   "source": [
    "        4- Print of the Frequency of Distinct Values in Each Feature Set"
   ]
  },
  {
   "cell_type": "code",
   "execution_count": 188,
   "metadata": {
    "id": "KoRlIzcx5lXt",
    "outputId": "339dee48-530d-415f-d2a3-d9e4935bd0b8"
   },
   "outputs": [
    {
     "name": "stdout",
     "output_type": "stream",
     "text": [
      "Age                       109\n",
      "Gender                    2\n",
      "AppointmentRegistration   295425\n",
      "ApointmentData            534\n",
      "DayOfTheWeek              7\n",
      "Status                    2\n",
      "Diabetes                  2\n",
      "Alcoolism                 2\n",
      "HiperTension              2\n",
      "Handcap                   5\n",
      "Smokes                    2\n",
      "Scholarship               2\n",
      "Tuberculosis              2\n",
      "Sms_Reminder              3\n",
      "AwaitingTime              213\n"
     ]
    }
   ],
   "source": [
    "for column in list(data.columns):\n",
    "    print( \"{0:25} {1}\".format(column, data[column].nunique()))"
   ]
  },
  {
   "cell_type": "markdown",
   "metadata": {
    "id": "a8WvKTFOmV07"
   },
   "source": [
    "Dr. Judy explained that {0:25} in the print statement meant that the feature in the first index (i.e., column) would be printed and 25 character spaces would be allocated to it. The above output implied that there are many variables within the dataset that have discrete values, examples of which include Gender, Status, DayOfTheWeek, and so on. This helped her choose the types of plots to represent each of these features. She decided to plot AwaitingTime and Age as histograms because these are numbers and continuous in nature. As for the features which are discrete in nature, she planned to represent them as a bar graph.She executed that graph by initializing the function in the cell below:"
   ]
  },
  {
   "cell_type": "code",
   "execution_count": 189,
   "metadata": {
    "id": "Chjpo6fb5lXt"
   },
   "outputs": [],
   "source": [
    "def features_plots(discrete_vars):\n",
    "\n",
    "    plt.figure(figsize=(15,24.5))\n",
    "\n",
    "    for i, cv in enumerate(['Age', 'AwaitingTime']):\n",
    "        plt.subplot(7, 2, i+1)\n",
    "        plt.hist(data[cv], bins=len(data[cv].unique()))\n",
    "        plt.title(cv)\n",
    "        plt.ylabel('Frequency')\n",
    "\n",
    "    for i, dv in enumerate(discrete_vars):\n",
    "        plt.subplot(7, 2, i+3)\n",
    "        data[dv].value_counts().plot(kind='bar', title=dv)\n",
    "        plt.ylabel('Frequency')"
   ]
  },
  {
   "cell_type": "markdown",
   "metadata": {
    "id": "rkYFg3LO5lXt"
   },
   "source": [
    "Dr. Judy pointed to the fact that the method in the above cell takes as an input the names of features which are discrete in nature because those will be represented as bar graphs. Without wasting time she called the function to plot the feature representations"
   ]
  },
  {
   "cell_type": "markdown",
   "metadata": {
    "id": "J81qewoj5lXt"
   },
   "source": [
    "        5- Calling ‘features_plot’ method to Plot the Feature Representation ( 1 point)"
   ]
  },
  {
   "cell_type": "code",
   "execution_count": 190,
   "metadata": {
    "id": "KfL6no2FmV07"
   },
   "outputs": [
    {
     "data": {
      "text/plain": [
       "Age                         int64\n",
       "Gender                     object\n",
       "AppointmentRegistration    object\n",
       "ApointmentData             object\n",
       "DayOfTheWeek               object\n",
       "Status                     object\n",
       "Diabetes                    int64\n",
       "Alcoolism                   int64\n",
       "HiperTension                int64\n",
       "Handcap                     int64\n",
       "Smokes                      int64\n",
       "Scholarship                 int64\n",
       "Tuberculosis                int64\n",
       "Sms_Reminder                int64\n",
       "AwaitingTime                int64\n",
       "dtype: object"
      ]
     },
     "execution_count": 190,
     "metadata": {},
     "output_type": "execute_result"
    }
   ],
   "source": [
    "# write your code here:\n",
    "\n",
    "\n",
    "data.dtypes\n"
   ]
  },
  {
   "cell_type": "code",
   "execution_count": 191,
   "metadata": {},
   "outputs": [
    {
     "data": {
      "text/plain": [
       "Age                        0\n",
       "Gender                     0\n",
       "AppointmentRegistration    0\n",
       "ApointmentData             0\n",
       "DayOfTheWeek               0\n",
       "Status                     0\n",
       "Diabetes                   0\n",
       "Alcoolism                  0\n",
       "HiperTension               0\n",
       "Handcap                    0\n",
       "Smokes                     0\n",
       "Scholarship                0\n",
       "Tuberculosis               0\n",
       "Sms_Reminder               0\n",
       "AwaitingTime               0\n",
       "dtype: int64"
      ]
     },
     "execution_count": 191,
     "metadata": {},
     "output_type": "execute_result"
    }
   ],
   "source": [
    "data.isna().sum()"
   ]
  },
  {
   "cell_type": "code",
   "execution_count": 192,
   "metadata": {},
   "outputs": [
    {
     "data": {
      "image/png": "[encoded data removed]",
      "text/plain": [
       "<Figure size 1500x2450 with 13 Axes>"
      ]
     },
     "metadata": {},
     "output_type": "display_data"
    }
   ],
   "source": [
    "# write your code here:\n",
    "discrete_vars = ['Gender', 'Status', 'DayOfTheWeek', 'Diabetes', 'Alcoolism', 'HiperTension', 'Handcap', 'Smokes', 'Scholarship', 'Tuberculosis', 'Sms_Reminder']\n",
    "\n",
    "features_plots(discrete_vars)\n",
    "\n",
    "plt.show()\n"
   ]
  },
  {
   "cell_type": "markdown",
   "metadata": {
    "id": "u5CcFJNr5lXu"
   },
   "source": [
    "Dr. Judy made the following deductions about some of the features from the dataset :\n",
    "Handicap: Instead of being Boolean, this feature had values in the range of 0 and 4.\n",
    "\n",
    "Sms_Reminder: Instead of being a Boolean entity, it had values in the range of 0 and 2. It seemed to her that Sms_Reminder represented the frequency of reminders sent to each and every patient."
   ]
  },
  {
   "cell_type": "markdown",
   "metadata": {
    "id": "YnOD2TiK5lXu"
   },
   "source": [
    "        6- Look a the Feature Representation plots,\n",
    "        a. Does any feature has missing values? (1 point)\n",
    "        b. Make some deductions about Age and AwaitingTime. (1 points)"
   ]
  },
  {
   "cell_type": "markdown",
   "metadata": {
    "id": "pB9i74aL5lXu"
   },
   "source": [
    "#### Write your answer here:\n",
    "\n"
   ]
  },
  {
   "cell_type": "markdown",
   "metadata": {
    "id": "qIWM9RLq5lXu"
   },
   "source": [
    "$\\alpha^2$"
   ]
  },
  {
   "cell_type": "markdown",
   "metadata": {
    "id": "kC3-eax45lXu"
   },
   "source": [
    "Findings from the deductions meant that Dr.Judy would have to clean data a bit (i.e., perform data wrangling) before pushing it into the analysis pipeline."
   ]
  },
  {
   "cell_type": "markdown",
   "metadata": {
    "id": "1ucj6B4G5lXu"
   },
   "source": [
    "### Performing Data Wrangling"
   ]
  },
  {
   "cell_type": "markdown",
   "metadata": {
    "id": "IKF7VK-C5lXu"
   },
   "source": [
    "        7-  Count Frequency of Negative Age Observations (1 point)"
   ]
  },
  {
   "cell_type": "code",
   "execution_count": 193,
   "metadata": {
    "id": "Qik3fdoQmV08"
   },
   "outputs": [
    {
     "data": {
      "text/html": [
       "<div>\n",
       "<style scoped>\n",
       "    .dataframe tbody tr th:only-of-type {\n",
       "        vertical-align: middle;\n",
       "    }\n",
       "\n",
       "    .dataframe tbody tr th {\n",
       "        vertical-align: top;\n",
       "    }\n",
       "\n",
       "    .dataframe thead th {\n",
       "        text-align: right;\n",
       "    }\n",
       "</style>\n",
       "<table border=\"1\" class=\"dataframe\">\n",
       "  <thead>\n",
       "    <tr style=\"text-align: right;\">\n",
       "      <th></th>\n",
       "      <th>Age</th>\n",
       "      <th>Gender</th>\n",
       "      <th>AppointmentRegistration</th>\n",
       "      <th>ApointmentData</th>\n",
       "      <th>DayOfTheWeek</th>\n",
       "      <th>Status</th>\n",
       "      <th>Diabetes</th>\n",
       "      <th>Alcoolism</th>\n",
       "      <th>HiperTension</th>\n",
       "      <th>Handcap</th>\n",
       "      <th>Smokes</th>\n",
       "      <th>Scholarship</th>\n",
       "      <th>Tuberculosis</th>\n",
       "      <th>Sms_Reminder</th>\n",
       "      <th>AwaitingTime</th>\n",
       "    </tr>\n",
       "  </thead>\n",
       "  <tbody>\n",
       "    <tr>\n",
       "      <th>63390</th>\n",
       "      <td>-1</td>\n",
       "      <td>F</td>\n",
       "      <td>2014-03-14T11:39:20Z</td>\n",
       "      <td>2014-03-21T00:00:00Z</td>\n",
       "      <td>Friday</td>\n",
       "      <td>No-Show</td>\n",
       "      <td>0</td>\n",
       "      <td>0</td>\n",
       "      <td>0</td>\n",
       "      <td>0</td>\n",
       "      <td>0</td>\n",
       "      <td>0</td>\n",
       "      <td>0</td>\n",
       "      <td>1</td>\n",
       "      <td>-7</td>\n",
       "    </tr>\n",
       "    <tr>\n",
       "      <th>90973</th>\n",
       "      <td>-1</td>\n",
       "      <td>F</td>\n",
       "      <td>2013-12-26T08:21:55Z</td>\n",
       "      <td>2014-01-30T00:00:00Z</td>\n",
       "      <td>Thursday</td>\n",
       "      <td>Show-Up</td>\n",
       "      <td>0</td>\n",
       "      <td>0</td>\n",
       "      <td>0</td>\n",
       "      <td>0</td>\n",
       "      <td>0</td>\n",
       "      <td>0</td>\n",
       "      <td>0</td>\n",
       "      <td>1</td>\n",
       "      <td>-35</td>\n",
       "    </tr>\n",
       "    <tr>\n",
       "      <th>170051</th>\n",
       "      <td>-1</td>\n",
       "      <td>F</td>\n",
       "      <td>2015-07-30T07:48:10Z</td>\n",
       "      <td>2015-08-20T00:00:00Z</td>\n",
       "      <td>Thursday</td>\n",
       "      <td>Show-Up</td>\n",
       "      <td>0</td>\n",
       "      <td>0</td>\n",
       "      <td>0</td>\n",
       "      <td>0</td>\n",
       "      <td>0</td>\n",
       "      <td>0</td>\n",
       "      <td>0</td>\n",
       "      <td>1</td>\n",
       "      <td>-21</td>\n",
       "    </tr>\n",
       "    <tr>\n",
       "      <th>170598</th>\n",
       "      <td>-1</td>\n",
       "      <td>F</td>\n",
       "      <td>2015-05-11T15:39:33Z</td>\n",
       "      <td>2015-05-18T00:00:00Z</td>\n",
       "      <td>Monday</td>\n",
       "      <td>Show-Up</td>\n",
       "      <td>0</td>\n",
       "      <td>0</td>\n",
       "      <td>0</td>\n",
       "      <td>0</td>\n",
       "      <td>0</td>\n",
       "      <td>0</td>\n",
       "      <td>0</td>\n",
       "      <td>1</td>\n",
       "      <td>-7</td>\n",
       "    </tr>\n",
       "    <tr>\n",
       "      <th>272820</th>\n",
       "      <td>-2</td>\n",
       "      <td>F</td>\n",
       "      <td>2013-12-18T16:09:18Z</td>\n",
       "      <td>2014-01-07T00:00:00Z</td>\n",
       "      <td>Tuesday</td>\n",
       "      <td>No-Show</td>\n",
       "      <td>0</td>\n",
       "      <td>0</td>\n",
       "      <td>0</td>\n",
       "      <td>0</td>\n",
       "      <td>0</td>\n",
       "      <td>0</td>\n",
       "      <td>0</td>\n",
       "      <td>1</td>\n",
       "      <td>-20</td>\n",
       "    </tr>\n",
       "    <tr>\n",
       "      <th>281909</th>\n",
       "      <td>-1</td>\n",
       "      <td>F</td>\n",
       "      <td>2014-01-23T11:23:22Z</td>\n",
       "      <td>2014-01-24T00:00:00Z</td>\n",
       "      <td>Friday</td>\n",
       "      <td>Show-Up</td>\n",
       "      <td>0</td>\n",
       "      <td>0</td>\n",
       "      <td>0</td>\n",
       "      <td>0</td>\n",
       "      <td>0</td>\n",
       "      <td>0</td>\n",
       "      <td>0</td>\n",
       "      <td>0</td>\n",
       "      <td>-1</td>\n",
       "    </tr>\n",
       "  </tbody>\n",
       "</table>\n",
       "</div>"
      ],
      "text/plain": [
       "        Age Gender AppointmentRegistration        ApointmentData DayOfTheWeek   Status  Diabetes  \\\n",
       "63390    -1      F    2014-03-14T11:39:20Z  2014-03-21T00:00:00Z       Friday  No-Show         0   \n",
       "90973    -1      F    2013-12-26T08:21:55Z  2014-01-30T00:00:00Z     Thursday  Show-Up         0   \n",
       "170051   -1      F    2015-07-30T07:48:10Z  2015-08-20T00:00:00Z     Thursday  Show-Up         0   \n",
       "170598   -1      F    2015-05-11T15:39:33Z  2015-05-18T00:00:00Z       Monday  Show-Up         0   \n",
       "272820   -2      F    2013-12-18T16:09:18Z  2014-01-07T00:00:00Z      Tuesday  No-Show         0   \n",
       "281909   -1      F    2014-01-23T11:23:22Z  2014-01-24T00:00:00Z       Friday  Show-Up         0   \n",
       "\n",
       "        Alcoolism  HiperTension  Handcap  Smokes  Scholarship  Tuberculosis  Sms_Reminder  \\\n",
       "63390           0             0        0       0            0             0             1   \n",
       "90973           0             0        0       0            0             0             1   \n",
       "170051          0             0        0       0            0             0             1   \n",
       "170598          0             0        0       0            0             0             1   \n",
       "272820          0             0        0       0            0             0             1   \n",
       "281909          0             0        0       0            0             0             0   \n",
       "\n",
       "        AwaitingTime  \n",
       "63390             -7  \n",
       "90973            -35  \n",
       "170051           -21  \n",
       "170598            -7  \n",
       "272820           -20  \n",
       "281909            -1  "
      ]
     },
     "execution_count": 193,
     "metadata": {},
     "output_type": "execute_result"
    }
   ],
   "source": [
    "# write your code here:\n",
    "\n",
    "# get all negative ages\n",
    "negative_age = data[data['Age'] <0]\n",
    "\n",
    "negative_age"
   ]
  },
  {
   "cell_type": "code",
   "execution_count": 194,
   "metadata": {},
   "outputs": [
    {
     "name": "stdout",
     "output_type": "stream",
     "text": [
      "Number of  Negative Age Observation  6 \n"
     ]
    }
   ],
   "source": [
    "# print the number of negative age observations\n",
    "print(f\"Number of  Negative Age Observation  {negative_age.shape[0]} \")"
   ]
  },
  {
   "cell_type": "markdown",
   "metadata": {
    "id": "t525fLTl5lXu"
   },
   "source": [
    "        8- Remove Observations with Negative Age Values (1 point)"
   ]
  },
  {
   "cell_type": "code",
   "execution_count": 195,
   "metadata": {
    "id": "2aPc9uO-mV08"
   },
   "outputs": [
    {
     "data": {
      "text/html": [
       "<div>\n",
       "<style scoped>\n",
       "    .dataframe tbody tr th:only-of-type {\n",
       "        vertical-align: middle;\n",
       "    }\n",
       "\n",
       "    .dataframe tbody tr th {\n",
       "        vertical-align: top;\n",
       "    }\n",
       "\n",
       "    .dataframe thead th {\n",
       "        text-align: right;\n",
       "    }\n",
       "</style>\n",
       "<table border=\"1\" class=\"dataframe\">\n",
       "  <thead>\n",
       "    <tr style=\"text-align: right;\">\n",
       "      <th></th>\n",
       "      <th>Age</th>\n",
       "      <th>Gender</th>\n",
       "      <th>AppointmentRegistration</th>\n",
       "      <th>ApointmentData</th>\n",
       "      <th>DayOfTheWeek</th>\n",
       "      <th>Status</th>\n",
       "      <th>Diabetes</th>\n",
       "      <th>Alcoolism</th>\n",
       "      <th>HiperTension</th>\n",
       "      <th>Handcap</th>\n",
       "      <th>Smokes</th>\n",
       "      <th>Scholarship</th>\n",
       "      <th>Tuberculosis</th>\n",
       "      <th>Sms_Reminder</th>\n",
       "      <th>AwaitingTime</th>\n",
       "    </tr>\n",
       "  </thead>\n",
       "  <tbody>\n",
       "    <tr>\n",
       "      <th>63390</th>\n",
       "      <td>-1</td>\n",
       "      <td>F</td>\n",
       "      <td>2014-03-14T11:39:20Z</td>\n",
       "      <td>2014-03-21T00:00:00Z</td>\n",
       "      <td>Friday</td>\n",
       "      <td>No-Show</td>\n",
       "      <td>0</td>\n",
       "      <td>0</td>\n",
       "      <td>0</td>\n",
       "      <td>0</td>\n",
       "      <td>0</td>\n",
       "      <td>0</td>\n",
       "      <td>0</td>\n",
       "      <td>1</td>\n",
       "      <td>-7</td>\n",
       "    </tr>\n",
       "    <tr>\n",
       "      <th>90973</th>\n",
       "      <td>-1</td>\n",
       "      <td>F</td>\n",
       "      <td>2013-12-26T08:21:55Z</td>\n",
       "      <td>2014-01-30T00:00:00Z</td>\n",
       "      <td>Thursday</td>\n",
       "      <td>Show-Up</td>\n",
       "      <td>0</td>\n",
       "      <td>0</td>\n",
       "      <td>0</td>\n",
       "      <td>0</td>\n",
       "      <td>0</td>\n",
       "      <td>0</td>\n",
       "      <td>0</td>\n",
       "      <td>1</td>\n",
       "      <td>-35</td>\n",
       "    </tr>\n",
       "    <tr>\n",
       "      <th>170051</th>\n",
       "      <td>-1</td>\n",
       "      <td>F</td>\n",
       "      <td>2015-07-30T07:48:10Z</td>\n",
       "      <td>2015-08-20T00:00:00Z</td>\n",
       "      <td>Thursday</td>\n",
       "      <td>Show-Up</td>\n",
       "      <td>0</td>\n",
       "      <td>0</td>\n",
       "      <td>0</td>\n",
       "      <td>0</td>\n",
       "      <td>0</td>\n",
       "      <td>0</td>\n",
       "      <td>0</td>\n",
       "      <td>1</td>\n",
       "      <td>-21</td>\n",
       "    </tr>\n",
       "    <tr>\n",
       "      <th>170598</th>\n",
       "      <td>-1</td>\n",
       "      <td>F</td>\n",
       "      <td>2015-05-11T15:39:33Z</td>\n",
       "      <td>2015-05-18T00:00:00Z</td>\n",
       "      <td>Monday</td>\n",
       "      <td>Show-Up</td>\n",
       "      <td>0</td>\n",
       "      <td>0</td>\n",
       "      <td>0</td>\n",
       "      <td>0</td>\n",
       "      <td>0</td>\n",
       "      <td>0</td>\n",
       "      <td>0</td>\n",
       "      <td>1</td>\n",
       "      <td>-7</td>\n",
       "    </tr>\n",
       "    <tr>\n",
       "      <th>272820</th>\n",
       "      <td>-2</td>\n",
       "      <td>F</td>\n",
       "      <td>2013-12-18T16:09:18Z</td>\n",
       "      <td>2014-01-07T00:00:00Z</td>\n",
       "      <td>Tuesday</td>\n",
       "      <td>No-Show</td>\n",
       "      <td>0</td>\n",
       "      <td>0</td>\n",
       "      <td>0</td>\n",
       "      <td>0</td>\n",
       "      <td>0</td>\n",
       "      <td>0</td>\n",
       "      <td>0</td>\n",
       "      <td>1</td>\n",
       "      <td>-20</td>\n",
       "    </tr>\n",
       "  </tbody>\n",
       "</table>\n",
       "</div>"
      ],
      "text/plain": [
       "        Age Gender AppointmentRegistration        ApointmentData DayOfTheWeek   Status  Diabetes  \\\n",
       "63390    -1      F    2014-03-14T11:39:20Z  2014-03-21T00:00:00Z       Friday  No-Show         0   \n",
       "90973    -1      F    2013-12-26T08:21:55Z  2014-01-30T00:00:00Z     Thursday  Show-Up         0   \n",
       "170051   -1      F    2015-07-30T07:48:10Z  2015-08-20T00:00:00Z     Thursday  Show-Up         0   \n",
       "170598   -1      F    2015-05-11T15:39:33Z  2015-05-18T00:00:00Z       Monday  Show-Up         0   \n",
       "272820   -2      F    2013-12-18T16:09:18Z  2014-01-07T00:00:00Z      Tuesday  No-Show         0   \n",
       "\n",
       "        Alcoolism  HiperTension  Handcap  Smokes  Scholarship  Tuberculosis  Sms_Reminder  \\\n",
       "63390           0             0        0       0            0             0             1   \n",
       "90973           0             0        0       0            0             0             1   \n",
       "170051          0             0        0       0            0             0             1   \n",
       "170598          0             0        0       0            0             0             1   \n",
       "272820          0             0        0       0            0             0             1   \n",
       "\n",
       "        AwaitingTime  \n",
       "63390             -7  \n",
       "90973            -35  \n",
       "170051           -21  \n",
       "170598            -7  \n",
       "272820           -20  "
      ]
     },
     "execution_count": 195,
     "metadata": {},
     "output_type": "execute_result"
    }
   ],
   "source": [
    "# write your code here:\n",
    "data = data[data['Age'] <0]\n",
    "data.head()"
   ]
  },
  {
   "cell_type": "code",
   "execution_count": 196,
   "metadata": {},
   "outputs": [
    {
     "data": {
      "text/plain": [
       "(6, 15)"
      ]
     },
     "execution_count": 196,
     "metadata": {},
     "output_type": "execute_result"
    }
   ],
   "source": [
    "data.shape"
   ]
  },
  {
   "cell_type": "markdown",
   "metadata": {
    "id": "B6KSj5lQ5lXu"
   },
   "source": [
    "While looking at the deductions from Feature Representation plots, Dr. Judy also noticed that the feature named ‘Handicap’ was an integer variable rather than a Boolean variable one. She recalled that the data definition for this feature set was missing from the data source and hence open to multiple interpretations. The only rationale she could think of for values lying within the range of 0 and 4 was that this might be a numeric entity representing the frequency of times a patient has been handicapped. As the interpretation of this feature was ambiguous to her she decided to drop this feature from the dataset ."
   ]
  },
  {
   "cell_type": "markdown",
   "metadata": {
    "id": "M6oWgOIk5lXv"
   },
   "source": [
    "        9- Remove Variable Named ‘Handicap’ from the Dataset ( 1 point )"
   ]
  },
  {
   "cell_type": "code",
   "execution_count": 197,
   "metadata": {
    "id": "GEFPpqzP5lXv"
   },
   "outputs": [
    {
     "data": {
      "text/plain": [
       "Index(['Age', 'Gender', 'AppointmentRegistration', 'ApointmentData', 'DayOfTheWeek', 'Status',\n",
       "       'Diabetes', 'Alcoolism', 'HiperTension', 'Handcap', 'Smokes', 'Scholarship', 'Tuberculosis',\n",
       "       'Sms_Reminder', 'AwaitingTime'],\n",
       "      dtype='object')"
      ]
     },
     "execution_count": 197,
     "metadata": {},
     "output_type": "execute_result"
    }
   ],
   "source": [
    "# write your code here:\n",
    "data.columns"
   ]
  },
  {
   "cell_type": "code",
   "execution_count": 198,
   "metadata": {},
   "outputs": [
    {
     "data": {
      "text/html": [
       "<div>\n",
       "<style scoped>\n",
       "    .dataframe tbody tr th:only-of-type {\n",
       "        vertical-align: middle;\n",
       "    }\n",
       "\n",
       "    .dataframe tbody tr th {\n",
       "        vertical-align: top;\n",
       "    }\n",
       "\n",
       "    .dataframe thead th {\n",
       "        text-align: right;\n",
       "    }\n",
       "</style>\n",
       "<table border=\"1\" class=\"dataframe\">\n",
       "  <thead>\n",
       "    <tr style=\"text-align: right;\">\n",
       "      <th></th>\n",
       "      <th>Age</th>\n",
       "      <th>Gender</th>\n",
       "      <th>AppointmentRegistration</th>\n",
       "      <th>ApointmentData</th>\n",
       "      <th>DayOfTheWeek</th>\n",
       "      <th>Status</th>\n",
       "      <th>Diabetes</th>\n",
       "      <th>Alcoolism</th>\n",
       "      <th>HiperTension</th>\n",
       "      <th>Handcap</th>\n",
       "      <th>Smokes</th>\n",
       "      <th>Scholarship</th>\n",
       "      <th>Tuberculosis</th>\n",
       "      <th>Sms_Reminder</th>\n",
       "      <th>AwaitingTime</th>\n",
       "    </tr>\n",
       "  </thead>\n",
       "  <tbody>\n",
       "    <tr>\n",
       "      <th>63390</th>\n",
       "      <td>-1</td>\n",
       "      <td>F</td>\n",
       "      <td>2014-03-14T11:39:20Z</td>\n",
       "      <td>2014-03-21T00:00:00Z</td>\n",
       "      <td>Friday</td>\n",
       "      <td>No-Show</td>\n",
       "      <td>0</td>\n",
       "      <td>0</td>\n",
       "      <td>0</td>\n",
       "      <td>0</td>\n",
       "      <td>0</td>\n",
       "      <td>0</td>\n",
       "      <td>0</td>\n",
       "      <td>1</td>\n",
       "      <td>-7</td>\n",
       "    </tr>\n",
       "    <tr>\n",
       "      <th>90973</th>\n",
       "      <td>-1</td>\n",
       "      <td>F</td>\n",
       "      <td>2013-12-26T08:21:55Z</td>\n",
       "      <td>2014-01-30T00:00:00Z</td>\n",
       "      <td>Thursday</td>\n",
       "      <td>Show-Up</td>\n",
       "      <td>0</td>\n",
       "      <td>0</td>\n",
       "      <td>0</td>\n",
       "      <td>0</td>\n",
       "      <td>0</td>\n",
       "      <td>0</td>\n",
       "      <td>0</td>\n",
       "      <td>1</td>\n",
       "      <td>-35</td>\n",
       "    </tr>\n",
       "    <tr>\n",
       "      <th>170051</th>\n",
       "      <td>-1</td>\n",
       "      <td>F</td>\n",
       "      <td>2015-07-30T07:48:10Z</td>\n",
       "      <td>2015-08-20T00:00:00Z</td>\n",
       "      <td>Thursday</td>\n",
       "      <td>Show-Up</td>\n",
       "      <td>0</td>\n",
       "      <td>0</td>\n",
       "      <td>0</td>\n",
       "      <td>0</td>\n",
       "      <td>0</td>\n",
       "      <td>0</td>\n",
       "      <td>0</td>\n",
       "      <td>1</td>\n",
       "      <td>-21</td>\n",
       "    </tr>\n",
       "    <tr>\n",
       "      <th>170598</th>\n",
       "      <td>-1</td>\n",
       "      <td>F</td>\n",
       "      <td>2015-05-11T15:39:33Z</td>\n",
       "      <td>2015-05-18T00:00:00Z</td>\n",
       "      <td>Monday</td>\n",
       "      <td>Show-Up</td>\n",
       "      <td>0</td>\n",
       "      <td>0</td>\n",
       "      <td>0</td>\n",
       "      <td>0</td>\n",
       "      <td>0</td>\n",
       "      <td>0</td>\n",
       "      <td>0</td>\n",
       "      <td>1</td>\n",
       "      <td>-7</td>\n",
       "    </tr>\n",
       "    <tr>\n",
       "      <th>272820</th>\n",
       "      <td>-2</td>\n",
       "      <td>F</td>\n",
       "      <td>2013-12-18T16:09:18Z</td>\n",
       "      <td>2014-01-07T00:00:00Z</td>\n",
       "      <td>Tuesday</td>\n",
       "      <td>No-Show</td>\n",
       "      <td>0</td>\n",
       "      <td>0</td>\n",
       "      <td>0</td>\n",
       "      <td>0</td>\n",
       "      <td>0</td>\n",
       "      <td>0</td>\n",
       "      <td>0</td>\n",
       "      <td>1</td>\n",
       "      <td>-20</td>\n",
       "    </tr>\n",
       "  </tbody>\n",
       "</table>\n",
       "</div>"
      ],
      "text/plain": [
       "        Age Gender AppointmentRegistration        ApointmentData DayOfTheWeek   Status  Diabetes  \\\n",
       "63390    -1      F    2014-03-14T11:39:20Z  2014-03-21T00:00:00Z       Friday  No-Show         0   \n",
       "90973    -1      F    2013-12-26T08:21:55Z  2014-01-30T00:00:00Z     Thursday  Show-Up         0   \n",
       "170051   -1      F    2015-07-30T07:48:10Z  2015-08-20T00:00:00Z     Thursday  Show-Up         0   \n",
       "170598   -1      F    2015-05-11T15:39:33Z  2015-05-18T00:00:00Z       Monday  Show-Up         0   \n",
       "272820   -2      F    2013-12-18T16:09:18Z  2014-01-07T00:00:00Z      Tuesday  No-Show         0   \n",
       "\n",
       "        Alcoolism  HiperTension  Handcap  Smokes  Scholarship  Tuberculosis  Sms_Reminder  \\\n",
       "63390           0             0        0       0            0             0             1   \n",
       "90973           0             0        0       0            0             0             1   \n",
       "170051          0             0        0       0            0             0             1   \n",
       "170598          0             0        0       0            0             0             1   \n",
       "272820          0             0        0       0            0             0             1   \n",
       "\n",
       "        AwaitingTime  \n",
       "63390             -7  \n",
       "90973            -35  \n",
       "170051           -21  \n",
       "170598            -7  \n",
       "272820           -20  "
      ]
     },
     "execution_count": 198,
     "metadata": {},
     "output_type": "execute_result"
    }
   ],
   "source": [
    "# remove Handcap columns\n",
    "data.drop(\"Handcap\", axis=1)\n",
    "data.head()"
   ]
  },
  {
   "cell_type": "code",
   "execution_count": 199,
   "metadata": {},
   "outputs": [
    {
     "data": {
      "text/plain": [
       "Index(['Age', 'Gender', 'AppointmentRegistration', 'ApointmentData', 'DayOfTheWeek', 'Status',\n",
       "       'Diabetes', 'Alcoolism', 'HiperTension', 'Handcap', 'Smokes', 'Scholarship', 'Tuberculosis',\n",
       "       'Sms_Reminder', 'AwaitingTime'],\n",
       "      dtype='object')"
      ]
     },
     "execution_count": 199,
     "metadata": {},
     "output_type": "execute_result"
    }
   ],
   "source": [
    "# recheck columns\n",
    "data.columns"
   ]
  },
  {
   "cell_type": "markdown",
   "metadata": {
    "id": "hRhTe8Ix5lXv"
   },
   "source": [
    "        10- Make Values Within AwaitingTime Positive"
   ]
  },
  {
   "cell_type": "code",
   "execution_count": 200,
   "metadata": {
    "id": "j71mIecr5lXv"
   },
   "outputs": [],
   "source": [
    "data['AwaitingTime'] = data['AwaitingTime'].apply(lambda x: abs(x))"
   ]
  },
  {
   "cell_type": "markdown",
   "metadata": {
    "id": "19XMIy4J5lXv"
   },
   "source": [
    "The treatment of features on the basis of Dr. Judy deductions was completed. However, she recalled reading that most machine learning algorithms work best with integer or floating point input rather than in string format. She knew that the categorical variables in the dataset didn’t comply with this condition and hence it was important for her to recode the string categorical features to their integer counterparts. Dr. Judy started off by recoding DayOfTheWeek by binding the mapping from string to integer."
   ]
  },
  {
   "cell_type": "markdown",
   "metadata": {
    "id": "CUMAXG865lXv"
   },
   "source": [
    "        11- Recode String Categorical Feature DayOfTheWeek to Integers"
   ]
  },
  {
   "cell_type": "code",
   "execution_count": 201,
   "metadata": {
    "id": "3Jx6eAdo5lXv"
   },
   "outputs": [],
   "source": [
    "dow_mapping = {'Monday' : 0, 'Tuesday' : 1, 'Wednesday' : 2, 'Thursday' : 3, 'Friday' : 4, 'Saturday' : 5, 'Sunday' : 6}\n",
    "data['DayOfTheWeek'] = data['DayOfTheWeek'].map(dow_mapping)"
   ]
  },
  {
   "cell_type": "code",
   "execution_count": 202,
   "metadata": {
    "id": "R2HwwkIv5lXw",
    "outputId": "554600c0-7612-4408-8af0-7eebd8537d83"
   },
   "outputs": [
    {
     "data": {
      "text/html": [
       "<div>\n",
       "<style scoped>\n",
       "    .dataframe tbody tr th:only-of-type {\n",
       "        vertical-align: middle;\n",
       "    }\n",
       "\n",
       "    .dataframe tbody tr th {\n",
       "        vertical-align: top;\n",
       "    }\n",
       "\n",
       "    .dataframe thead th {\n",
       "        text-align: right;\n",
       "    }\n",
       "</style>\n",
       "<table border=\"1\" class=\"dataframe\">\n",
       "  <thead>\n",
       "    <tr style=\"text-align: right;\">\n",
       "      <th></th>\n",
       "      <th>Age</th>\n",
       "      <th>Gender</th>\n",
       "      <th>AppointmentRegistration</th>\n",
       "      <th>ApointmentData</th>\n",
       "      <th>DayOfTheWeek</th>\n",
       "      <th>Status</th>\n",
       "      <th>Diabetes</th>\n",
       "      <th>Alcoolism</th>\n",
       "      <th>HiperTension</th>\n",
       "      <th>Handcap</th>\n",
       "      <th>Smokes</th>\n",
       "      <th>Scholarship</th>\n",
       "      <th>Tuberculosis</th>\n",
       "      <th>Sms_Reminder</th>\n",
       "      <th>AwaitingTime</th>\n",
       "    </tr>\n",
       "  </thead>\n",
       "  <tbody>\n",
       "    <tr>\n",
       "      <th>63390</th>\n",
       "      <td>-1</td>\n",
       "      <td>F</td>\n",
       "      <td>2014-03-14T11:39:20Z</td>\n",
       "      <td>2014-03-21T00:00:00Z</td>\n",
       "      <td>4</td>\n",
       "      <td>No-Show</td>\n",
       "      <td>0</td>\n",
       "      <td>0</td>\n",
       "      <td>0</td>\n",
       "      <td>0</td>\n",
       "      <td>0</td>\n",
       "      <td>0</td>\n",
       "      <td>0</td>\n",
       "      <td>1</td>\n",
       "      <td>7</td>\n",
       "    </tr>\n",
       "    <tr>\n",
       "      <th>90973</th>\n",
       "      <td>-1</td>\n",
       "      <td>F</td>\n",
       "      <td>2013-12-26T08:21:55Z</td>\n",
       "      <td>2014-01-30T00:00:00Z</td>\n",
       "      <td>3</td>\n",
       "      <td>Show-Up</td>\n",
       "      <td>0</td>\n",
       "      <td>0</td>\n",
       "      <td>0</td>\n",
       "      <td>0</td>\n",
       "      <td>0</td>\n",
       "      <td>0</td>\n",
       "      <td>0</td>\n",
       "      <td>1</td>\n",
       "      <td>35</td>\n",
       "    </tr>\n",
       "    <tr>\n",
       "      <th>170051</th>\n",
       "      <td>-1</td>\n",
       "      <td>F</td>\n",
       "      <td>2015-07-30T07:48:10Z</td>\n",
       "      <td>2015-08-20T00:00:00Z</td>\n",
       "      <td>3</td>\n",
       "      <td>Show-Up</td>\n",
       "      <td>0</td>\n",
       "      <td>0</td>\n",
       "      <td>0</td>\n",
       "      <td>0</td>\n",
       "      <td>0</td>\n",
       "      <td>0</td>\n",
       "      <td>0</td>\n",
       "      <td>1</td>\n",
       "      <td>21</td>\n",
       "    </tr>\n",
       "    <tr>\n",
       "      <th>170598</th>\n",
       "      <td>-1</td>\n",
       "      <td>F</td>\n",
       "      <td>2015-05-11T15:39:33Z</td>\n",
       "      <td>2015-05-18T00:00:00Z</td>\n",
       "      <td>0</td>\n",
       "      <td>Show-Up</td>\n",
       "      <td>0</td>\n",
       "      <td>0</td>\n",
       "      <td>0</td>\n",
       "      <td>0</td>\n",
       "      <td>0</td>\n",
       "      <td>0</td>\n",
       "      <td>0</td>\n",
       "      <td>1</td>\n",
       "      <td>7</td>\n",
       "    </tr>\n",
       "    <tr>\n",
       "      <th>272820</th>\n",
       "      <td>-2</td>\n",
       "      <td>F</td>\n",
       "      <td>2013-12-18T16:09:18Z</td>\n",
       "      <td>2014-01-07T00:00:00Z</td>\n",
       "      <td>1</td>\n",
       "      <td>No-Show</td>\n",
       "      <td>0</td>\n",
       "      <td>0</td>\n",
       "      <td>0</td>\n",
       "      <td>0</td>\n",
       "      <td>0</td>\n",
       "      <td>0</td>\n",
       "      <td>0</td>\n",
       "      <td>1</td>\n",
       "      <td>20</td>\n",
       "    </tr>\n",
       "  </tbody>\n",
       "</table>\n",
       "</div>"
      ],
      "text/plain": [
       "        Age Gender AppointmentRegistration        ApointmentData  DayOfTheWeek   Status  Diabetes  \\\n",
       "63390    -1      F    2014-03-14T11:39:20Z  2014-03-21T00:00:00Z             4  No-Show         0   \n",
       "90973    -1      F    2013-12-26T08:21:55Z  2014-01-30T00:00:00Z             3  Show-Up         0   \n",
       "170051   -1      F    2015-07-30T07:48:10Z  2015-08-20T00:00:00Z             3  Show-Up         0   \n",
       "170598   -1      F    2015-05-11T15:39:33Z  2015-05-18T00:00:00Z             0  Show-Up         0   \n",
       "272820   -2      F    2013-12-18T16:09:18Z  2014-01-07T00:00:00Z             1  No-Show         0   \n",
       "\n",
       "        Alcoolism  HiperTension  Handcap  Smokes  Scholarship  Tuberculosis  Sms_Reminder  \\\n",
       "63390           0             0        0       0            0             0             1   \n",
       "90973           0             0        0       0            0             0             1   \n",
       "170051          0             0        0       0            0             0             1   \n",
       "170598          0             0        0       0            0             0             1   \n",
       "272820          0             0        0       0            0             0             1   \n",
       "\n",
       "        AwaitingTime  \n",
       "63390              7  \n",
       "90973             35  \n",
       "170051            21  \n",
       "170598             7  \n",
       "272820            20  "
      ]
     },
     "execution_count": 202,
     "metadata": {},
     "output_type": "execute_result"
    }
   ],
   "source": [
    "data.head()"
   ]
  },
  {
   "cell_type": "markdown",
   "metadata": {
    "id": "UuwkMU4J5lXw"
   },
   "source": [
    "Dr. Judy explained her recoding methodology as follows:\n",
    "\n",
    "There exists methods for automatic recoding of categorical variables. These methods perform the recoding in an alphabetic order such that if categories for a feature are Male and Female, then it will assign a code of 0 to Female and 1 to Male. DayOfTheWeek is an ordinal quantity; hence I decided to do the mapping manually. However, this is not the case in the Gender and Status features as they are nominal in nature. Hence, I will be using the predefined method to do the recoding automatically .\n",
    "\n",
    "Dr. Judy performed the recoding for ‘Gender’ and ‘Status’"
   ]
  },
  {
   "cell_type": "markdown",
   "metadata": {
    "id": "sXNmVPIa5lXw"
   },
   "source": [
    "        12- Recode String Categorical Features ('Gender', 'Status') to Integers using pands.Categorical method(). (1 point)"
   ]
  },
  {
   "cell_type": "code",
   "execution_count": null,
   "metadata": {
    "id": "kyMQJ6495lXw"
   },
   "outputs": [],
   "source": []
  },
  {
   "cell_type": "code",
   "execution_count": 203,
   "metadata": {},
   "outputs": [
    {
     "data": {
      "text/html": [
       "<div>\n",
       "<style scoped>\n",
       "    .dataframe tbody tr th:only-of-type {\n",
       "        vertical-align: middle;\n",
       "    }\n",
       "\n",
       "    .dataframe tbody tr th {\n",
       "        vertical-align: top;\n",
       "    }\n",
       "\n",
       "    .dataframe thead th {\n",
       "        text-align: right;\n",
       "    }\n",
       "</style>\n",
       "<table border=\"1\" class=\"dataframe\">\n",
       "  <thead>\n",
       "    <tr style=\"text-align: right;\">\n",
       "      <th></th>\n",
       "      <th>Age</th>\n",
       "      <th>Gender</th>\n",
       "      <th>AppointmentRegistration</th>\n",
       "      <th>ApointmentData</th>\n",
       "      <th>DayOfTheWeek</th>\n",
       "      <th>Status</th>\n",
       "      <th>Diabetes</th>\n",
       "      <th>Alcoolism</th>\n",
       "      <th>HiperTension</th>\n",
       "      <th>Handcap</th>\n",
       "      <th>Smokes</th>\n",
       "      <th>Scholarship</th>\n",
       "      <th>Tuberculosis</th>\n",
       "      <th>Sms_Reminder</th>\n",
       "      <th>AwaitingTime</th>\n",
       "    </tr>\n",
       "  </thead>\n",
       "  <tbody>\n",
       "    <tr>\n",
       "      <th>63390</th>\n",
       "      <td>-1</td>\n",
       "      <td>0</td>\n",
       "      <td>2014-03-14T11:39:20Z</td>\n",
       "      <td>2014-03-21T00:00:00Z</td>\n",
       "      <td>4</td>\n",
       "      <td>0</td>\n",
       "      <td>0</td>\n",
       "      <td>0</td>\n",
       "      <td>0</td>\n",
       "      <td>0</td>\n",
       "      <td>0</td>\n",
       "      <td>0</td>\n",
       "      <td>0</td>\n",
       "      <td>1</td>\n",
       "      <td>7</td>\n",
       "    </tr>\n",
       "    <tr>\n",
       "      <th>90973</th>\n",
       "      <td>-1</td>\n",
       "      <td>0</td>\n",
       "      <td>2013-12-26T08:21:55Z</td>\n",
       "      <td>2014-01-30T00:00:00Z</td>\n",
       "      <td>3</td>\n",
       "      <td>1</td>\n",
       "      <td>0</td>\n",
       "      <td>0</td>\n",
       "      <td>0</td>\n",
       "      <td>0</td>\n",
       "      <td>0</td>\n",
       "      <td>0</td>\n",
       "      <td>0</td>\n",
       "      <td>1</td>\n",
       "      <td>35</td>\n",
       "    </tr>\n",
       "    <tr>\n",
       "      <th>170051</th>\n",
       "      <td>-1</td>\n",
       "      <td>0</td>\n",
       "      <td>2015-07-30T07:48:10Z</td>\n",
       "      <td>2015-08-20T00:00:00Z</td>\n",
       "      <td>3</td>\n",
       "      <td>1</td>\n",
       "      <td>0</td>\n",
       "      <td>0</td>\n",
       "      <td>0</td>\n",
       "      <td>0</td>\n",
       "      <td>0</td>\n",
       "      <td>0</td>\n",
       "      <td>0</td>\n",
       "      <td>1</td>\n",
       "      <td>21</td>\n",
       "    </tr>\n",
       "    <tr>\n",
       "      <th>170598</th>\n",
       "      <td>-1</td>\n",
       "      <td>0</td>\n",
       "      <td>2015-05-11T15:39:33Z</td>\n",
       "      <td>2015-05-18T00:00:00Z</td>\n",
       "      <td>0</td>\n",
       "      <td>1</td>\n",
       "      <td>0</td>\n",
       "      <td>0</td>\n",
       "      <td>0</td>\n",
       "      <td>0</td>\n",
       "      <td>0</td>\n",
       "      <td>0</td>\n",
       "      <td>0</td>\n",
       "      <td>1</td>\n",
       "      <td>7</td>\n",
       "    </tr>\n",
       "    <tr>\n",
       "      <th>272820</th>\n",
       "      <td>-2</td>\n",
       "      <td>0</td>\n",
       "      <td>2013-12-18T16:09:18Z</td>\n",
       "      <td>2014-01-07T00:00:00Z</td>\n",
       "      <td>1</td>\n",
       "      <td>0</td>\n",
       "      <td>0</td>\n",
       "      <td>0</td>\n",
       "      <td>0</td>\n",
       "      <td>0</td>\n",
       "      <td>0</td>\n",
       "      <td>0</td>\n",
       "      <td>0</td>\n",
       "      <td>1</td>\n",
       "      <td>20</td>\n",
       "    </tr>\n",
       "  </tbody>\n",
       "</table>\n",
       "</div>"
      ],
      "text/plain": [
       "        Age  Gender AppointmentRegistration        ApointmentData  DayOfTheWeek  Status  Diabetes  \\\n",
       "63390    -1       0    2014-03-14T11:39:20Z  2014-03-21T00:00:00Z             4       0         0   \n",
       "90973    -1       0    2013-12-26T08:21:55Z  2014-01-30T00:00:00Z             3       1         0   \n",
       "170051   -1       0    2015-07-30T07:48:10Z  2015-08-20T00:00:00Z             3       1         0   \n",
       "170598   -1       0    2015-05-11T15:39:33Z  2015-05-18T00:00:00Z             0       1         0   \n",
       "272820   -2       0    2013-12-18T16:09:18Z  2014-01-07T00:00:00Z             1       0         0   \n",
       "\n",
       "        Alcoolism  HiperTension  Handcap  Smokes  Scholarship  Tuberculosis  Sms_Reminder  \\\n",
       "63390           0             0        0       0            0             0             1   \n",
       "90973           0             0        0       0            0             0             1   \n",
       "170051          0             0        0       0            0             0             1   \n",
       "170598          0             0        0       0            0             0             1   \n",
       "272820          0             0        0       0            0             0             1   \n",
       "\n",
       "        AwaitingTime  \n",
       "63390              7  \n",
       "90973             35  \n",
       "170051            21  \n",
       "170598             7  \n",
       "272820            20  "
      ]
     },
     "execution_count": 203,
     "metadata": {},
     "output_type": "execute_result"
    }
   ],
   "source": [
    "# write your code here:\n",
    "data['Gender'] = pd.Categorical(data['Gender']).codes\n",
    "data['Status'] = pd.Categorical(data['Status']).codes\n",
    "data.head()"
   ]
  },
  {
   "cell_type": "code",
   "execution_count": 204,
   "metadata": {},
   "outputs": [
    {
     "data": {
      "text/html": [
       "<div>\n",
       "<style scoped>\n",
       "    .dataframe tbody tr th:only-of-type {\n",
       "        vertical-align: middle;\n",
       "    }\n",
       "\n",
       "    .dataframe tbody tr th {\n",
       "        vertical-align: top;\n",
       "    }\n",
       "\n",
       "    .dataframe thead th {\n",
       "        text-align: right;\n",
       "    }\n",
       "</style>\n",
       "<table border=\"1\" class=\"dataframe\">\n",
       "  <thead>\n",
       "    <tr style=\"text-align: right;\">\n",
       "      <th></th>\n",
       "      <th>Status</th>\n",
       "      <th>Gender</th>\n",
       "    </tr>\n",
       "  </thead>\n",
       "  <tbody>\n",
       "    <tr>\n",
       "      <th>63390</th>\n",
       "      <td>0</td>\n",
       "      <td>0</td>\n",
       "    </tr>\n",
       "    <tr>\n",
       "      <th>90973</th>\n",
       "      <td>1</td>\n",
       "      <td>0</td>\n",
       "    </tr>\n",
       "    <tr>\n",
       "      <th>170051</th>\n",
       "      <td>1</td>\n",
       "      <td>0</td>\n",
       "    </tr>\n",
       "    <tr>\n",
       "      <th>170598</th>\n",
       "      <td>1</td>\n",
       "      <td>0</td>\n",
       "    </tr>\n",
       "    <tr>\n",
       "      <th>272820</th>\n",
       "      <td>0</td>\n",
       "      <td>0</td>\n",
       "    </tr>\n",
       "    <tr>\n",
       "      <th>281909</th>\n",
       "      <td>1</td>\n",
       "      <td>0</td>\n",
       "    </tr>\n",
       "  </tbody>\n",
       "</table>\n",
       "</div>"
      ],
      "text/plain": [
       "        Status  Gender\n",
       "63390        0       0\n",
       "90973        1       0\n",
       "170051       1       0\n",
       "170598       1       0\n",
       "272820       0       0\n",
       "281909       1       0"
      ]
     },
     "execution_count": 204,
     "metadata": {},
     "output_type": "execute_result"
    }
   ],
   "source": [
    "data[['Status', \"Gender\"]]"
   ]
  },
  {
   "cell_type": "markdown",
   "metadata": {
    "id": "AUDpCWMCmV08"
   },
   "source": [
    "### Performing Exploratory Data Analysis"
   ]
  },
  {
   "cell_type": "markdown",
   "metadata": {
    "id": "-Ua2vWRh5lXw"
   },
   "source": [
    "Rather than starting off with the exploratory data analysis (EDA), Dr. Judy believed it best to see the data visually to identify if there were patterns to which she could redirect the model. Dr. Judy believed that as people got older, their need to see a doctor would also increase. The notion behind this was that as people age, diseases increase exponentially. Hence she wrote the a code in to see if the relationship between these quantities is inversely proportional in reality or not."
   ]
  },
  {
   "cell_type": "markdown",
   "metadata": {
    "id": "A6Fc2bqT5lXw"
   },
   "source": [
    "        13- Plot a Scatter Plot Between Age and AwaitingTime. (1 point)"
   ]
  },
  {
   "cell_type": "code",
   "execution_count": 205,
   "metadata": {
    "id": "06_1FUnMmV08"
   },
   "outputs": [
    {
     "data": {
      "text/plain": [
       "(0.0, 120.0)"
      ]
     },
     "execution_count": 205,
     "metadata": {},
     "output_type": "execute_result"
    },
    {
     "data": {
      "image/png": "[encoded data removed]",
      "text/plain": [
       "<Figure size 1000x500 with 1 Axes>"
      ]
     },
     "metadata": {},
     "output_type": "display_data"
    }
   ],
   "source": [
    "# Write your code here\n",
    "\n",
    "plt.figure(figsize=(10,5))\n",
    "plt.scatter(x=data['Age'], y=data['AwaitingTime'])\n",
    "plt.title(\"Scatter Plot for Age against AwaitingTime\", fontsize=16)\n",
    "plt.xlabel(\"AGE\", fontsize=15)\n",
    "plt.ylabel(\"AwaitingTime\", fontsize=15)\n",
    "plt.xlim(0, 120)\n",
    "plt.ylim(0, 120)"
   ]
  },
  {
   "cell_type": "markdown",
   "metadata": {
    "id": "9ByXdXHa5lXw"
   },
   "source": [
    "Dr. Judy wasn’t happy with the results as Scatter Plot gave a highly dispersed plot, with no signs of correlation at the start and a bit of negative correlation after the age of 90. Visual representation showed the earlier established hypothesis to have failed. However, she decided to validate this using a statistical correlation technique as well"
   ]
  },
  {
   "cell_type": "markdown",
   "metadata": {
    "id": "1pCNJJAg5lXx"
   },
   "source": [
    "        14- Calculate Pearson Correlation Between Age and AwaitingTime"
   ]
  },
  {
   "cell_type": "code",
   "execution_count": 206,
   "metadata": {
    "id": "N6r2fQqr5lXx",
    "outputId": "9b93b6aa-db75-40e1-c587-23d595a7de13"
   },
   "outputs": [
    {
     "name": "stdout",
     "output_type": "stream",
     "text": [
      "                Age  AwaitingTime\n",
      "Age           1.000        -0.189\n",
      "AwaitingTime -0.189         1.000\n"
     ]
    }
   ],
   "source": [
    "pd.set_option('display.width', 100)\n",
    "pd.set_option('display.precision', 3)\n",
    "correlations = data[['Age', 'AwaitingTime']].corr(method='pearson')\n",
    "print(correlations)"
   ]
  },
  {
   "cell_type": "markdown",
   "metadata": {
    "id": "iuZ5Bs075lXx"
   },
   "source": [
    "The correlation between Age and AwaitingTime was approaching 0 which deferred to the hypothesis she had established earlier. She was now interested to see if the increase in SMS reminders increased the likelihood of a patient showing up or not. For that reason she wrote a code to plot a stacked bar graph."
   ]
  },
  {
   "cell_type": "markdown",
   "metadata": {
    "id": "foGMQyN45lXx"
   },
   "source": [
    "        15- Show the effect on Status on the Basis of Number of SMS Reminders"
   ]
  },
  {
   "cell_type": "code",
   "execution_count": 207,
   "metadata": {
    "id": "9rH_2eEu5lXx",
    "outputId": "5143444a-3d18-49e6-cbad-282cf9a971ff"
   },
   "outputs": [
    {
     "data": {
      "text/plain": [
       "Text(0, 0.5, 'Frequency')"
      ]
     },
     "execution_count": 207,
     "metadata": {},
     "output_type": "execute_result"
    },
    {
     "data": {
      "image/png": "[encoded data removed]",
      "text/plain": [
       "<Figure size 1500x500 with 1 Axes>"
      ]
     },
     "metadata": {},
     "output_type": "display_data"
    }
   ],
   "source": [
    "data_dow_status = data.groupby(['Sms_Reminder', 'Status'])['Sms_Reminder'].count().unstack('Status').fillna(0)\n",
    "data_dow_status[[0, 1]].plot(kind='bar', stacked=True)\n",
    "plt.title('Frequency of people showing up and not showing up by number of SMS reminders sent')\n",
    "plt.xlabel('Number of SMS reminders')\n",
    "plt.ylabel('Frequency')"
   ]
  },
  {
   "cell_type": "markdown",
   "metadata": {
    "id": "BUTzpSw65lXx"
   },
   "source": [
    "Looking at above plot Dr. Judy noticed that the rate of change in the number of patients who showed up after one reminder relative to those who showed up when no reminder was sent was roughly 30% (i.e., (0.17 m – 0.13 m) / 0/13m), whereas the rate of change in the number of patients not showing up after one reminder relative to those who showed up when no reminder was sent was roughly 25% (i.e., (0.05 m – 0.04 m) / 0/04m0. She thus concluded that SMS reminders do marginally increase the likelihood of a patient showing up on his/her appointment day.\n",
    "\n",
    "Dr. Judy’s perspective was that the majority of the patients would show up in the middle of a week, whereas many of them changed their plans and would not show up for an appointment at the start or the end of the week. This she believed was due to the fact that the start and the end of the week are usually the busiest for businesses, while relief in work occurs during the middle of a week. She decided to validate her perspective in a code."
   ]
  },
  {
   "cell_type": "markdown",
   "metadata": {
    "id": "7OzJN6HI5lXx"
   },
   "source": [
    "        16- Show the effect on Appointment Day of the Week on the Basis of Number of SMS Reminders (1 points)"
   ]
  },
  {
   "cell_type": "code",
   "execution_count": 208,
   "metadata": {
    "id": "IZqiYKSw5lXx"
   },
   "outputs": [
    {
     "data": {
      "text/plain": [
       "Text(0.5, 0, 'Apointment Day')"
      ]
     },
     "execution_count": 208,
     "metadata": {},
     "output_type": "execute_result"
    },
    {
     "data": {
      "image/png": "[encoded data removed]",
      "text/plain": [
       "<Figure size 1500x500 with 1 Axes>"
      ]
     },
     "metadata": {},
     "output_type": "display_data"
    }
   ],
   "source": [
    "# Write your code here\n",
    "\n",
    "data_dow_status = data.groupby(['Sms_Reminder', 'DayOfTheWeek'])['Sms_Reminder'].count().unstack('DayOfTheWeek').fillna(0)\n",
    "data_dow_status.T.plot(kind='bar', stacked=True)\n",
    "plt.title('Week Day  and the  number of SMS reminders sent')\n",
    "plt.ylabel('Number of SMS reminders')\n",
    "plt.xlabel('Apointment Day')"
   ]
  },
  {
   "cell_type": "markdown",
   "metadata": {
    "id": "ZZjAqrvo5lXy"
   },
   "source": [
    "Dr. Judy pointed out that in above plot, 0 represents Monday whereas 6 represents Sunday, with rest of the days lying within in order. Close to no patients showed up on Saturdays, and the clinic was closed on Sundays. The rate of change of no-shows stayed pretty much the same for the remaining five days, whereas the distribution of show-ups seemed to have followed a bell-shaped curve, with most patients showing up on Wednesdays."
   ]
  },
  {
   "cell_type": "markdown",
   "metadata": {
    "id": "yYiIume45lXy"
   },
   "source": [
    "Dr. Judy believed that people who are younger are more likely to be busy and to have a job. Because of that they might be short of time and highly likely to not show up at the time of their appointment. She initially thought of finding the measure of center (i.e., mean or median) to validate her hypothesis. However, she wasn’t sure which one of the center of measures she should go forward with (i.e., mean, median, or mode)."
   ]
  },
  {
   "cell_type": "markdown",
   "metadata": {
    "id": "S77rBhfS5lXy"
   },
   "source": [
    "She recalled from Feature Representation plots that a huge chunk of observations in Age have a value of 0. This she knew could turn out into a disadvantage while calculating the mean as then it will pull the mean toward the lower side. Hence she believed a better measure to be the median, which is unaffected by outliers. Thus she planned on plotting a box plot of Age grouped by Status."
   ]
  },
  {
   "cell_type": "markdown",
   "metadata": {
    "id": "BLQ27zHl5lXy"
   },
   "source": [
    "        17- Plot Box Plot of Patients’ Age by Status ( 1 point)"
   ]
  },
  {
   "cell_type": "code",
   "execution_count": 209,
   "metadata": {
    "id": "SI2ZLxQz5lXy"
   },
   "outputs": [
    {
     "data": {
      "text/plain": [
       "<Axes: title={'center': 'Box Plot for Age against Status'}, xlabel='Age', ylabel='Status'>"
      ]
     },
     "execution_count": 209,
     "metadata": {},
     "output_type": "execute_result"
    },
    {
     "data": {
      "image/png": "[encoded data removed]",
      "text/plain": [
       "<Figure size 1500x500 with 1 Axes>"
      ]
     },
     "metadata": {},
     "output_type": "display_data"
    }
   ],
   "source": [
    "# Write your code here\n",
    "\n",
    "import seaborn as sns\n",
    "plt.title(\"Box Plot for Age against Status\", fontsize=16)\n",
    "sns.boxplot(data=data_copy, x=\"Age\", y='Status')"
   ]
  },
  {
   "cell_type": "markdown",
   "metadata": {
    "id": "aiIV84sO5lXy"
   },
   "source": [
    "She was thrilled to see the results in box plot as her hypothesis held true as the median age of people showing up (i.e., 40) turned out to be relatively greater than that of those not showing up (i.e., 32). She also pointed to the fact that the upper limit (i.e., quartile 3) of people showing up is 58, which is relatively higher than that of those of not showing up (i.e., 52)."
   ]
  },
  {
   "cell_type": "markdown",
   "metadata": {
    "id": "pIvj5VLM5lXy"
   },
   "source": [
    "Dr. Judy decided to analyze Age against Status for both genders separately. For that reason she wrote the code below to plot line graphs."
   ]
  },
  {
   "cell_type": "markdown",
   "metadata": {
    "id": "GqMRDe5x5lXy"
   },
   "source": [
    "        18- Plot Line Plot of Age by Gender for Patients Status-Wise\n"
   ]
  },
  {
   "cell_type": "code",
   "execution_count": 210,
   "metadata": {
    "id": "_2Af4K0d5lXy",
    "outputId": "933c4f5f-ed26-40e3-c020-b81a388e38c9"
   },
   "outputs": [
    {
     "data": {
      "image/png": "[encoded data removed]",
      "text/plain": [
       "<Figure size 1500x350 with 2 Axes>"
      ]
     },
     "metadata": {},
     "output_type": "display_data"
    }
   ],
   "source": [
    "plt.figure(figsize=(15,3.5))\n",
    "\n",
    "for i, status in enumerate(['no show ups', 'show ups']):\n",
    "\n",
    "    data_show = data[data['Status']==i]\n",
    "    plt.subplot(1, 2, i+1)\n",
    "\n",
    "    for gender in [0, 1]:\n",
    "        data_gender = data_show[data_show['Gender']==gender]\n",
    "        freq_age = data_gender['Age'].value_counts().sort_index()\n",
    "        freq_age.plot()\n",
    "\n",
    "    plt.title('Age wise frequency of patient %s for both genders'%status)\n",
    "    plt.xlabel('Age')\n",
    "    plt.ylabel('Frequency')\n",
    "    plt.legend(['Female', 'Male'], loc='upper left')"
   ]
  },
  {
   "cell_type": "markdown",
   "metadata": {
    "id": "hqga2Rdy5lXz"
   },
   "source": [
    "Age pattern for males seems to be similar for both statuses, contrary to that of females which varies across statuses. Females in the age range of 42 to 62 are likely to show up on the date and time of their appointment.\n",
    "\n",
    "Dr. Judy believed that people having a long AwaitingTime (i.e., days to appointment) would have preferred to see another doctor rather than waiting so long. She believed that another reason for not showing up on the appointment date could be that if a disease is seasonal it is likely to be cured after some prevention techniques or home-based remedies. Hence, by the time their appointment date arrives, the patients decide not to consult the doctor. She decided to see if this was true from the data at hand."
   ]
  },
  {
   "cell_type": "markdown",
   "metadata": {
    "id": "eMGVtWGf5lXz"
   },
   "source": [
    "        19- Plot Box Plot of AwaitingTime by Status (1 point)"
   ]
  },
  {
   "cell_type": "code",
   "execution_count": 211,
   "metadata": {
    "id": "pO2HNyXk5lXz"
   },
   "outputs": [
    {
     "data": {
      "text/plain": [
       "<Axes: title={'center': 'Box Plot for Awaiting Time against Status'}, xlabel='AwaitingTime', ylabel='Status'>"
      ]
     },
     "execution_count": 211,
     "metadata": {},
     "output_type": "execute_result"
    },
    {
     "data": {
      "image/png": "[encoded data removed]",
      "text/plain": [
       "<Figure size 1500x500 with 1 Axes>"
      ]
     },
     "metadata": {},
     "output_type": "display_data"
    }
   ],
   "source": [
    "# write your code here:\n",
    "\n",
    "plt.title(\"Box Plot for Awaiting Time against Status\", fontsize=16)\n",
    "sns.boxplot(data=data_copy, x=\"AwaitingTime\", y='Status')"
   ]
  },
  {
   "cell_type": "markdown",
   "metadata": {
    "id": "O4W5giF15lXz"
   },
   "source": [
    "After looking at above box plot, Dr. Judy deduced that patients who have their AwaitingTime in the third quartile are relatively more likely to not to show up, which supported her earlier laid null hypothesis—with increasing waiting time the likelihood of patient not showing up also increases. She also pointed out that the median in both the status instances is close to zero."
   ]
  },
  {
   "cell_type": "markdown",
   "metadata": {
    "id": "4o1SlKwP5lXz"
   },
   "source": [
    "Dr. Judy was thrilled as exploratory data analysis provided her with many insights. Summing up, she observed that SMS reminders increased the likelihood of a patient showing up on time. She also noticed that younger patients more often did not show up at their appointment times whereas older patients were more disciplined and showed up on time. She also saw that people with long waiting times decided not to show up on their appointed date and times. Dr. Judy now had a fair idea that no-shows to appointment was the reason for losses, and she had gained insight into what leads people to exhibit this behavior. Now she was planning to move ahead and make a classification model to predict the likelihood of a patient to show up or not in the future. This was important because if she knew the total number of patients who would show up on a given day, week, or month, she could tune the resources likewise to save costs. However, before starting with this classification, she wondered whether she could extract more features out of the existing ones by means of features’ generation. She believed this would help her capture the variability and definite patterns within the dataset"
   ]
  },
  {
   "cell_type": "markdown",
   "metadata": {
    "id": "mHu2knAh5lXz"
   },
   "source": [
    "### Features’ Generation"
   ]
  },
  {
   "cell_type": "markdown",
   "metadata": {
    "id": "itir6q_J5lXz"
   },
   "source": [
    "In machine learning, the greater the number of observations and feature sets within the dataset, the greater the likelihood that the model will capture the variability within it, to understand its true essence. Dr. Judy knew that increasing the number of observations was not an option; however, she could increase the feature sets within the dataset. Dr. Judy was clueless as to how she could extract more features from the existing features. After much thinking, she decided to break the features having dates into more granular date components. She wrote the code below cell to apply her logic to features named AppointmentRegistration and AppointmentDate."
   ]
  },
  {
   "cell_type": "markdown",
   "metadata": {
    "id": "tjdzJmEN5lXz"
   },
   "source": [
    "        20-Breaking Date Features into Date Components"
   ]
  },
  {
   "cell_type": "code",
   "execution_count": 212,
   "metadata": {
    "id": "91KmF78b5lXz"
   },
   "outputs": [],
   "source": [
    "for col in ['AppointmentRegistration', 'ApointmentData']:\n",
    "    for index, component in enumerate(['year', 'month', 'day']):\n",
    "        data['%s_%s'%(col, component)] = data[col].apply(lambda x: int(x.split('T')[0].split('-')[index]))"
   ]
  },
  {
   "cell_type": "markdown",
   "metadata": {
    "id": "deIe2zQb5lX0"
   },
   "source": [
    "Dr. Judy explained that the above code broke AppointmentRegistration and AppointmentData features into their respective year, month, and day components. However, it didn’t break them into their time components because ApointmentData doesn’t have a time component within its string object, whereas AppointmentRegistration feature does have it. Hence she wrote a code to break the AppointmentRegistration feature into its time component as well."
   ]
  },
  {
   "cell_type": "markdown",
   "metadata": {
    "id": "39fCTDhL5lX0"
   },
   "source": [
    "        21- Breaking AppointmentRegistration into Time Components"
   ]
  },
  {
   "cell_type": "code",
   "execution_count": 213,
   "metadata": {
    "id": "xy-EQHvQ5lX0"
   },
   "outputs": [],
   "source": [
    "for index, component in enumerate(['hour', 'min', 'sec']):\n",
    "    data['%s_%s'%('AppointmentRegistration', component)] = data['AppointmentRegistration'].apply(\n",
    "       lambda x: int(x.split('T')[1][:-1].split(':')[index]))"
   ]
  },
  {
   "cell_type": "markdown",
   "metadata": {
    "id": "z3ymSvFA5lX0"
   },
   "source": [
    "To witness the step of features generation, she print Observations of the Dataset"
   ]
  },
  {
   "cell_type": "code",
   "execution_count": 214,
   "metadata": {
    "id": "DFEUzJFG5lX0",
    "outputId": "55d492ac-06a5-4c8e-a7a0-176d3bb1e872"
   },
   "outputs": [
    {
     "data": {
      "text/html": [
       "<div>\n",
       "<style scoped>\n",
       "    .dataframe tbody tr th:only-of-type {\n",
       "        vertical-align: middle;\n",
       "    }\n",
       "\n",
       "    .dataframe tbody tr th {\n",
       "        vertical-align: top;\n",
       "    }\n",
       "\n",
       "    .dataframe thead th {\n",
       "        text-align: right;\n",
       "    }\n",
       "</style>\n",
       "<table border=\"1\" class=\"dataframe\">\n",
       "  <thead>\n",
       "    <tr style=\"text-align: right;\">\n",
       "      <th></th>\n",
       "      <th>Age</th>\n",
       "      <th>Gender</th>\n",
       "      <th>AppointmentRegistration</th>\n",
       "      <th>ApointmentData</th>\n",
       "      <th>DayOfTheWeek</th>\n",
       "      <th>Status</th>\n",
       "      <th>Diabetes</th>\n",
       "      <th>Alcoolism</th>\n",
       "      <th>HiperTension</th>\n",
       "      <th>Handcap</th>\n",
       "      <th>...</th>\n",
       "      <th>AwaitingTime</th>\n",
       "      <th>AppointmentRegistration_year</th>\n",
       "      <th>AppointmentRegistration_month</th>\n",
       "      <th>AppointmentRegistration_day</th>\n",
       "      <th>ApointmentData_year</th>\n",
       "      <th>ApointmentData_month</th>\n",
       "      <th>ApointmentData_day</th>\n",
       "      <th>AppointmentRegistration_hour</th>\n",
       "      <th>AppointmentRegistration_min</th>\n",
       "      <th>AppointmentRegistration_sec</th>\n",
       "    </tr>\n",
       "  </thead>\n",
       "  <tbody>\n",
       "    <tr>\n",
       "      <th>63390</th>\n",
       "      <td>-1</td>\n",
       "      <td>0</td>\n",
       "      <td>2014-03-14T11:39:20Z</td>\n",
       "      <td>2014-03-21T00:00:00Z</td>\n",
       "      <td>4</td>\n",
       "      <td>0</td>\n",
       "      <td>0</td>\n",
       "      <td>0</td>\n",
       "      <td>0</td>\n",
       "      <td>0</td>\n",
       "      <td>...</td>\n",
       "      <td>7</td>\n",
       "      <td>2014</td>\n",
       "      <td>3</td>\n",
       "      <td>14</td>\n",
       "      <td>2014</td>\n",
       "      <td>3</td>\n",
       "      <td>21</td>\n",
       "      <td>11</td>\n",
       "      <td>39</td>\n",
       "      <td>20</td>\n",
       "    </tr>\n",
       "    <tr>\n",
       "      <th>90973</th>\n",
       "      <td>-1</td>\n",
       "      <td>0</td>\n",
       "      <td>2013-12-26T08:21:55Z</td>\n",
       "      <td>2014-01-30T00:00:00Z</td>\n",
       "      <td>3</td>\n",
       "      <td>1</td>\n",
       "      <td>0</td>\n",
       "      <td>0</td>\n",
       "      <td>0</td>\n",
       "      <td>0</td>\n",
       "      <td>...</td>\n",
       "      <td>35</td>\n",
       "      <td>2013</td>\n",
       "      <td>12</td>\n",
       "      <td>26</td>\n",
       "      <td>2014</td>\n",
       "      <td>1</td>\n",
       "      <td>30</td>\n",
       "      <td>8</td>\n",
       "      <td>21</td>\n",
       "      <td>55</td>\n",
       "    </tr>\n",
       "    <tr>\n",
       "      <th>170051</th>\n",
       "      <td>-1</td>\n",
       "      <td>0</td>\n",
       "      <td>2015-07-30T07:48:10Z</td>\n",
       "      <td>2015-08-20T00:00:00Z</td>\n",
       "      <td>3</td>\n",
       "      <td>1</td>\n",
       "      <td>0</td>\n",
       "      <td>0</td>\n",
       "      <td>0</td>\n",
       "      <td>0</td>\n",
       "      <td>...</td>\n",
       "      <td>21</td>\n",
       "      <td>2015</td>\n",
       "      <td>7</td>\n",
       "      <td>30</td>\n",
       "      <td>2015</td>\n",
       "      <td>8</td>\n",
       "      <td>20</td>\n",
       "      <td>7</td>\n",
       "      <td>48</td>\n",
       "      <td>10</td>\n",
       "    </tr>\n",
       "    <tr>\n",
       "      <th>170598</th>\n",
       "      <td>-1</td>\n",
       "      <td>0</td>\n",
       "      <td>2015-05-11T15:39:33Z</td>\n",
       "      <td>2015-05-18T00:00:00Z</td>\n",
       "      <td>0</td>\n",
       "      <td>1</td>\n",
       "      <td>0</td>\n",
       "      <td>0</td>\n",
       "      <td>0</td>\n",
       "      <td>0</td>\n",
       "      <td>...</td>\n",
       "      <td>7</td>\n",
       "      <td>2015</td>\n",
       "      <td>5</td>\n",
       "      <td>11</td>\n",
       "      <td>2015</td>\n",
       "      <td>5</td>\n",
       "      <td>18</td>\n",
       "      <td>15</td>\n",
       "      <td>39</td>\n",
       "      <td>33</td>\n",
       "    </tr>\n",
       "    <tr>\n",
       "      <th>272820</th>\n",
       "      <td>-2</td>\n",
       "      <td>0</td>\n",
       "      <td>2013-12-18T16:09:18Z</td>\n",
       "      <td>2014-01-07T00:00:00Z</td>\n",
       "      <td>1</td>\n",
       "      <td>0</td>\n",
       "      <td>0</td>\n",
       "      <td>0</td>\n",
       "      <td>0</td>\n",
       "      <td>0</td>\n",
       "      <td>...</td>\n",
       "      <td>20</td>\n",
       "      <td>2013</td>\n",
       "      <td>12</td>\n",
       "      <td>18</td>\n",
       "      <td>2014</td>\n",
       "      <td>1</td>\n",
       "      <td>7</td>\n",
       "      <td>16</td>\n",
       "      <td>9</td>\n",
       "      <td>18</td>\n",
       "    </tr>\n",
       "  </tbody>\n",
       "</table>\n",
       "<p>5 rows × 24 columns</p>\n",
       "</div>"
      ],
      "text/plain": [
       "        Age  Gender AppointmentRegistration        ApointmentData  DayOfTheWeek  Status  Diabetes  \\\n",
       "63390    -1       0    2014-03-14T11:39:20Z  2014-03-21T00:00:00Z             4       0         0   \n",
       "90973    -1       0    2013-12-26T08:21:55Z  2014-01-30T00:00:00Z             3       1         0   \n",
       "170051   -1       0    2015-07-30T07:48:10Z  2015-08-20T00:00:00Z             3       1         0   \n",
       "170598   -1       0    2015-05-11T15:39:33Z  2015-05-18T00:00:00Z             0       1         0   \n",
       "272820   -2       0    2013-12-18T16:09:18Z  2014-01-07T00:00:00Z             1       0         0   \n",
       "\n",
       "        Alcoolism  HiperTension  Handcap  ...  AwaitingTime  AppointmentRegistration_year  \\\n",
       "63390           0             0        0  ...             7                          2014   \n",
       "90973           0             0        0  ...            35                          2013   \n",
       "170051          0             0        0  ...            21                          2015   \n",
       "170598          0             0        0  ...             7                          2015   \n",
       "272820          0             0        0  ...            20                          2013   \n",
       "\n",
       "        AppointmentRegistration_month  AppointmentRegistration_day  ApointmentData_year  \\\n",
       "63390                               3                           14                 2014   \n",
       "90973                              12                           26                 2014   \n",
       "170051                              7                           30                 2015   \n",
       "170598                              5                           11                 2015   \n",
       "272820                             12                           18                 2014   \n",
       "\n",
       "        ApointmentData_month  ApointmentData_day  AppointmentRegistration_hour  \\\n",
       "63390                      3                  21                            11   \n",
       "90973                      1                  30                             8   \n",
       "170051                     8                  20                             7   \n",
       "170598                     5                  18                            15   \n",
       "272820                     1                   7                            16   \n",
       "\n",
       "        AppointmentRegistration_min  AppointmentRegistration_sec  \n",
       "63390                            39                           20  \n",
       "90973                            21                           55  \n",
       "170051                           48                           10  \n",
       "170598                           39                           33  \n",
       "272820                            9                           18  \n",
       "\n",
       "[5 rows x 24 columns]"
      ]
     },
     "execution_count": 214,
     "metadata": {},
     "output_type": "execute_result"
    }
   ],
   "source": [
    "data.head()"
   ]
  },
  {
   "cell_type": "markdown",
   "metadata": {
    "id": "ZqJfTVjh5lX0"
   },
   "source": [
    "Looking at above Table Dr. Judy was thrilled to see the features’ generation come true. The evidence was the columns representing the year, month, day, hour, minute, and second components of AppointmentData and AppointmentRegistration. Dr. Judy was well aware that her methodology of increasing the feature sets wasn’t the de facto technique as several other techniques achieving the same objective exist. She had some ideas about extracting more features; however, she went with the simplest one to save time. But she is open to collaboration if someone can help her extract other date components from the date features or help her transform the features into their Boolean counterparts."
   ]
  },
  {
   "cell_type": "markdown",
   "metadata": {
    "id": "AGGqHo5-5lX0"
   },
   "source": [
    " Dr. Judy was hopeful that this pool of features would now enable the classification model to better understand the dynamics of the underlying data. She was aware of what classification was, but her curiousity to learn more made her come up with the following material on the topic."
   ]
  },
  {
   "cell_type": "markdown",
   "metadata": {
    "id": "bBOcLlz25lX1"
   },
   "source": [
    "### Classification"
   ]
  },
  {
   "cell_type": "markdown",
   "metadata": {
    "id": "vvnsOvFP5lX1"
   },
   "source": [
    "Dr. Judy decided to define a method that would take the actual data and predict the goodness of the model. For that reason she wrote the following method:"
   ]
  },
  {
   "cell_type": "code",
   "execution_count": 215,
   "metadata": {
    "id": "A_Qyj-9s5lX1"
   },
   "outputs": [],
   "source": [
    "def model_performance(model_name, model, X_train, y_train, y_test, Y_pred):\n",
    "\n",
    "    print('Model name: %s'%model_name)\n",
    "    print('Test accuracy (Accuracy Score): %f'%metrics.accuracy_score(y_test, Y_pred))\n",
    "    print('Test accuracy (ROC AUC Score): %f'%metrics.roc_auc_score(y_test, Y_pred))\n",
    "    print('Train accuracy: %f'%model.score(X_train, y_train))\n",
    "\n",
    "    fpr, tpr, thresholds = metrics.precision_recall_curve(y_test, Y_pred)\n",
    "    print('Area Under the Precision-Recall Curve: %f'%metrics.auc(fpr, tpr))\n",
    "\n",
    "    false_positive_rate, true_positive_rate, thresholds = metrics.roc_curve(y_test, Y_pred)\n",
    "    roc_auc = metrics.auc(false_positive_rate, true_positive_rate)\n",
    "\n",
    "    plt.title('Receiver Operating Characteristic')\n",
    "    plt.plot(false_positive_rate, true_positive_rate, 'b',\n",
    "    label='AUC = %0.2f'% roc_auc)\n",
    "    plt.legend(loc='lower right')\n",
    "    plt.plot([0,1],[0,1],'r--')\n",
    "    plt.xlim([-0.1,1.2])\n",
    "    plt.ylim([-0.1,1.2])\n",
    "    plt.ylabel('True Positive Rate')\n",
    "    plt.xlabel('False Positive Rate')\n",
    "    plt.show()"
   ]
  },
  {
   "cell_type": "markdown",
   "metadata": {
    "id": "6siuXTcg5lX1"
   },
   "source": [
    "In order to cross-validate the model, Dr. Judy knew that she would have to split the data into training and testing data."
   ]
  },
  {
   "cell_type": "markdown",
   "metadata": {
    "id": "znjIYseD5lX1"
   },
   "source": [
    "Dr. Judy planned to train the model from the training dataset and then use that model to predict the values in the test dataset. She planned on doing so to determine the goodness of the model. She wrote the code for the training/testing split"
   ]
  },
  {
   "cell_type": "code",
   "execution_count": 216,
   "metadata": {
    "id": "DtuQoG2p5lX1"
   },
   "outputs": [],
   "source": [
    "# Declaring Features for Model Training:\n",
    "features_of_choice = [u'Age', u'Gender', 'DayOfTheWeek', 'Diabetes', 'Alcoolism', 'HiperTension',\n",
    "                        'Smokes', 'Scholarship', 'Tuberculosis', 'Sms_Reminder',\n",
    "                        'AwaitingTime', 'AppointmentRegistration_year', 'AppointmentRegistration_month',\n",
    "                        'AppointmentRegistration_day', 'ApointmentData_year', 'ApointmentData_month',\n",
    "                        'ApointmentData_day', 'AppointmentRegistration_hour', 'AppointmentRegistration_min',\n",
    "                        'AppointmentRegistration_sec']\n",
    "\n",
    "x = np.array(data[features_of_choice])\n",
    "y = np.array(data['Status'])"
   ]
  },
  {
   "cell_type": "markdown",
   "metadata": {
    "id": "im3sYOX85lX1"
   },
   "source": [
    "        22- Split Data ( x and y ) into Training and Testing Sets ( 1 point)\n",
    "        train the model with 70% of the samples and test with the remaining 30%."
   ]
  },
  {
   "cell_type": "code",
   "execution_count": 217,
   "metadata": {
    "id": "Iqn3cWVe5lX1"
   },
   "outputs": [],
   "source": [
    "# write youfrom sklearn.model_selection import train_test_split\n",
    "from sklearn.model_selection import train_test_split\n",
    "\n",
    "Xtrain, Xtest, Ytrain, Ytest = train_test_split(\n",
    "    x,y, test_size=0.3, random_state=2022, stratify=y\n",
    ")\n"
   ]
  },
  {
   "cell_type": "code",
   "execution_count": 218,
   "metadata": {},
   "outputs": [
    {
     "data": {
      "text/plain": [
       "((4, 20), (4,), (2, 20), (2,))"
      ]
     },
     "execution_count": 218,
     "metadata": {},
     "output_type": "execute_result"
    }
   ],
   "source": [
    "Xtrain.shape, Ytrain.shape, Xtest.shape, Ytest.shape"
   ]
  },
  {
   "cell_type": "markdown",
   "metadata": {
    "id": "q1LU1Qn-5lX1"
   },
   "source": [
    "Dr. Judy explained her logic. She took a 70-30 split whereby 70% of the observations fall into training and 30% of observations fall into the test dataset."
   ]
  },
  {
   "cell_type": "markdown",
   "metadata": {
    "id": "Ko4pMjfQ5lX1"
   },
   "source": [
    "Before applying the classification model she thought it better to recall the reason for doing classification in the first place. With the aid of the exploratory analysis she had figured out the reason for recurring losses. Then she decided to go a further mile to find a remedy for this problem. She decided to use classification as an aid to predict if a patient will show up on his/her appointment day or not. This would enable management to do either of the following:\n",
    "\n",
    "Scale down the human resources (i.e., staff and doctors) to cut costs\n",
    "\n",
    "Determine the reasons for patients not showing up and find fixes for that problem\n",
    "\n",
    "While looking at classification, the only visual representation Dr. Judy could think of was a tree. As in the case of Status, the tree will have one parent node and two child nodes (i.e., show-ups and no-shows). While searching for classification models, she found a visual representation, Decision Tree Classification."
   ]
  },
  {
   "cell_type": "markdown",
   "metadata": {
    "id": "6UmNjMDv5lX2"
   },
   "source": [
    "#### Decision Tree Classification"
   ]
  },
  {
   "cell_type": "markdown",
   "metadata": {
    "id": "-MiNlN665lX2"
   },
   "source": [
    "Dr. Judy wrote a code to train the decision tree classification model on a training dataset. She used the test-train split variables."
   ]
  },
  {
   "cell_type": "markdown",
   "metadata": {
    "id": "zRmLp6zm5lX2"
   },
   "source": [
    "        23- Training the Model by Applying Decision Tree Classifier (1 point)"
   ]
  },
  {
   "cell_type": "code",
   "execution_count": 219,
   "metadata": {
    "id": "izd3Lq1wmV09"
   },
   "outputs": [
    {
     "name": "stdout",
     "output_type": "stream",
     "text": [
      "Done Training\n"
     ]
    }
   ],
   "source": [
    "# write your code here\n",
    "decision_model = DecisionTreeClassifier()\n",
    "decision_model.fit(Xtrain, Ytrain)\n",
    "print(\"Done Training\")"
   ]
  },
  {
   "cell_type": "code",
   "execution_count": 220,
   "metadata": {},
   "outputs": [
    {
     "data": {
      "text/plain": [
       "0.5"
      ]
     },
     "execution_count": 220,
     "metadata": {},
     "output_type": "execute_result"
    }
   ],
   "source": [
    "# check score\n",
    "decision_model.score(Xtest, Ytest)"
   ]
  },
  {
   "cell_type": "markdown",
   "metadata": {
    "id": "VLIw7Gp35lX2"
   },
   "source": [
    "Dr. Judy pointed out that because no configuration parameters were passed to the decision tree classifier, it took the default values of configuration parameters. The next step was to apply the trained model on a testing dataset to find the predicted labels of Status. She then aimed to compare the predicted labels to the original label of Status to calculate accuracy of the model."
   ]
  },
  {
   "cell_type": "markdown",
   "metadata": {
    "id": "I7HweFcf5lX2"
   },
   "source": [
    "        24- Predict labels of Status by applying the trained model on a testing dataset ( 1 point)"
   ]
  },
  {
   "cell_type": "code",
   "execution_count": 221,
   "metadata": {
    "id": "A5rEMuK25lX2"
   },
   "outputs": [],
   "source": [
    "# write your code here:\n",
    "decision_preds = decision_model.predict(Xtest)\n"
   ]
  },
  {
   "cell_type": "markdown",
   "metadata": {
    "id": "P1N7cXo15lX2"
   },
   "source": [
    "        25- Finding the performance of Decision Tree Classifier using the predefined model_performance method (1 point)"
   ]
  },
  {
   "cell_type": "code",
   "execution_count": 222,
   "metadata": {
    "id": "OHSrOggC5lX2"
   },
   "outputs": [
    {
     "name": "stdout",
     "output_type": "stream",
     "text": [
      "Model name: Decision Tree Classifier \n",
      "Test accuracy (Accuracy Score): 0.500000\n",
      "Test accuracy (ROC AUC Score): 0.500000\n",
      "Train accuracy: 1.000000\n",
      "Area Under the Precision-Recall Curve: 0.250000\n"
     ]
    },
    {
     "data": {
      "image/png": "[encoded data removed]",
      "text/plain": [
       "<Figure size 1500x500 with 1 Axes>"
      ]
     },
     "metadata": {},
     "output_type": "display_data"
    }
   ],
   "source": [
    "# write your code here:\n",
    "model_performance(\"Decision Tree Classifier \", decision_model, Xtrain, Ytrain, Ytest, decision_preds)"
   ]
  },
  {
   "cell_type": "markdown",
   "metadata": {
    "id": "AJ_Ds-ue5lX2"
   },
   "source": [
    "#### Ensemble Methods:\n",
    "##### Random Forest Classification"
   ]
  },
  {
   "cell_type": "markdown",
   "metadata": {
    "id": "Mz_sfk1_5lX2"
   },
   "source": [
    "        26- Training RandomForest (RF) Classifier on Training Dataset (1 point)\n",
    "\n"
   ]
  },
  {
   "cell_type": "code",
   "execution_count": 223,
   "metadata": {
    "id": "dPNC7MoB5lX2"
   },
   "outputs": [
    {
     "data": {
      "text/html": [
       "<style>#sk-container-id-3 {color: black;background-color: white;}#sk-container-id-3 pre{padding: 0;}#sk-container-id-3 div.sk-toggleable {background-color: white;}#sk-container-id-3 label.sk-toggleable__label {cursor: pointer;display: block;width: 100%;margin-bottom: 0;padding: 0.3em;box-sizing: border-box;text-align: center;}#sk-container-id-3 label.sk-toggleable__label-arrow:before {content: \"▸\";float: left;margin-right: 0.25em;color: #696969;}#sk-container-id-3 label.sk-toggleable__label-arrow:hover:before {color: black;}#sk-container-id-3 div.sk-estimator:hover label.sk-toggleable__label-arrow:before {color: black;}#sk-container-id-3 div.sk-toggleable__content {max-height: 0;max-width: 0;overflow: hidden;text-align: left;background-color: #f0f8ff;}#sk-container-id-3 div.sk-toggleable__content pre {margin: 0.2em;color: black;border-radius: 0.25em;background-color: #f0f8ff;}#sk-container-id-3 input.sk-toggleable__control:checked~div.sk-toggleable__content {max-height: 200px;max-width: 100%;overflow: auto;}#sk-container-id-3 input.sk-toggleable__control:checked~label.sk-toggleable__label-arrow:before {content: \"▾\";}#sk-container-id-3 div.sk-estimator input.sk-toggleable__control:checked~label.sk-toggleable__label {background-color: #d4ebff;}#sk-container-id-3 div.sk-label input.sk-toggleable__control:checked~label.sk-toggleable__label {background-color: #d4ebff;}#sk-container-id-3 input.sk-hidden--visually {border: 0;clip: rect(1px 1px 1px 1px);clip: rect(1px, 1px, 1px, 1px);height: 1px;margin: -1px;overflow: hidden;padding: 0;position: absolute;width: 1px;}#sk-container-id-3 div.sk-estimator {font-family: monospace;background-color: #f0f8ff;border: 1px dotted black;border-radius: 0.25em;box-sizing: border-box;margin-bottom: 0.5em;}#sk-container-id-3 div.sk-estimator:hover {background-color: #d4ebff;}#sk-container-id-3 div.sk-parallel-item::after {content: \"\";width: 100%;border-bottom: 1px solid gray;flex-grow: 1;}#sk-container-id-3 div.sk-label:hover label.sk-toggleable__label {background-color: #d4ebff;}#sk-container-id-3 div.sk-serial::before {content: \"\";position: absolute;border-left: 1px solid gray;box-sizing: border-box;top: 0;bottom: 0;left: 50%;z-index: 0;}#sk-container-id-3 div.sk-serial {display: flex;flex-direction: column;align-items: center;background-color: white;padding-right: 0.2em;padding-left: 0.2em;position: relative;}#sk-container-id-3 div.sk-item {position: relative;z-index: 1;}#sk-container-id-3 div.sk-parallel {display: flex;align-items: stretch;justify-content: center;background-color: white;position: relative;}#sk-container-id-3 div.sk-item::before, #sk-container-id-3 div.sk-parallel-item::before {content: \"\";position: absolute;border-left: 1px solid gray;box-sizing: border-box;top: 0;bottom: 0;left: 50%;z-index: -1;}#sk-container-id-3 div.sk-parallel-item {display: flex;flex-direction: column;z-index: 1;position: relative;background-color: white;}#sk-container-id-3 div.sk-parallel-item:first-child::after {align-self: flex-end;width: 50%;}#sk-container-id-3 div.sk-parallel-item:last-child::after {align-self: flex-start;width: 50%;}#sk-container-id-3 div.sk-parallel-item:only-child::after {width: 0;}#sk-container-id-3 div.sk-dashed-wrapped {border: 1px dashed gray;margin: 0 0.4em 0.5em 0.4em;box-sizing: border-box;padding-bottom: 0.4em;background-color: white;}#sk-container-id-3 div.sk-label label {font-family: monospace;font-weight: bold;display: inline-block;line-height: 1.2em;}#sk-container-id-3 div.sk-label-container {text-align: center;}#sk-container-id-3 div.sk-container {/* jupyter's `normalize.less` sets `[hidden] { display: none; }` but bootstrap.min.css set `[hidden] { display: none !important; }` so we also need the `!important` here to be able to override the default hidden behavior on the sphinx rendered scikit-learn.org. See: https://github.com/scikit-learn/scikit-learn/issues/21755 */display: inline-block !important;position: relative;}#sk-container-id-3 div.sk-text-repr-fallback {display: none;}</style><div id=\"sk-container-id-3\" class=\"sk-top-container\"><div class=\"sk-text-repr-fallback\"><pre>RandomForestClassifier()</pre><b>In a Jupyter environment, please rerun this cell to show the HTML representation or trust the notebook. <br />On GitHub, the HTML representation is unable to render, please try loading this page with nbviewer.org.</b></div><div class=\"sk-container\" hidden><div class=\"sk-item\"><div class=\"sk-estimator sk-toggleable\"><input class=\"sk-toggleable__control sk-hidden--visually\" id=\"sk-estimator-id-3\" type=\"checkbox\" checked><label for=\"sk-estimator-id-3\" class=\"sk-toggleable__label sk-toggleable__label-arrow\">RandomForestClassifier</label><div class=\"sk-toggleable__content\"><pre>RandomForestClassifier()</pre></div></div></div></div></div>"
      ],
      "text/plain": [
       "RandomForestClassifier()"
      ]
     },
     "execution_count": 223,
     "metadata": {},
     "output_type": "execute_result"
    }
   ],
   "source": [
    "# write your code here\n",
    "random_model = RandomForestClassifier()\n",
    "\n",
    "random_model.fit(Xtrain, Ytrain)"
   ]
  },
  {
   "cell_type": "markdown",
   "metadata": {
    "id": "ln3L8Let5lX3"
   },
   "source": [
    "        27- Predict labels of Status by applying the RF trained model on a testing dataset ( 1 point)"
   ]
  },
  {
   "cell_type": "code",
   "execution_count": 224,
   "metadata": {
    "id": "TCm_-LKk5lX3"
   },
   "outputs": [],
   "source": [
    "# write your code here\n",
    "random_preds = random_model.predict(Xtest)"
   ]
  },
  {
   "cell_type": "markdown",
   "metadata": {
    "id": "l_hEMKC45lX3"
   },
   "source": [
    "         28- Finding the performance of RF Classifier using the predefined model_performance method (1 point)"
   ]
  },
  {
   "cell_type": "code",
   "execution_count": 225,
   "metadata": {
    "id": "fI9iEEkj5lX3"
   },
   "outputs": [
    {
     "name": "stdout",
     "output_type": "stream",
     "text": [
      "Model name: Random Forest Classifier \n",
      "Test accuracy (Accuracy Score): 0.500000\n",
      "Test accuracy (ROC AUC Score): 0.500000\n",
      "Train accuracy: 1.000000\n",
      "Area Under the Precision-Recall Curve: 0.250000\n"
     ]
    },
    {
     "data": {
      "image/png": "[encoded data removed]",
      "text/plain": [
       "<Figure size 1500x500 with 1 Axes>"
      ]
     },
     "metadata": {},
     "output_type": "display_data"
    }
   ],
   "source": [
    "# write your code here\n",
    "\n",
    "model_performance(\"Random Forest Classifier \", random_model, Xtrain, Ytrain, Ytest, random_preds)"
   ]
  },
  {
   "cell_type": "markdown",
   "metadata": {
    "id": "PaUOHI4V5lX3"
   },
   "source": [
    "##### Gradient Boosting (GB)\n"
   ]
  },
  {
   "cell_type": "markdown",
   "metadata": {
    "id": "J_FmqeR-5lX3"
   },
   "source": [
    "        29- Training GB Classifier on Training Dataset ( 1 point)\n"
   ]
  },
  {
   "cell_type": "code",
   "execution_count": 226,
   "metadata": {
    "id": "1H51D6V2mV0-"
   },
   "outputs": [
    {
     "name": "stdout",
     "output_type": "stream",
     "text": [
      "Finished training GBC\n"
     ]
    }
   ],
   "source": [
    "# write your code here\n",
    "gbc_model = GradientBoostingClassifier()\n",
    "\n",
    "gbc_model.fit(Xtrain, Ytrain)\n",
    "print(\"Finished training GBC\")"
   ]
  },
  {
   "cell_type": "code",
   "execution_count": 227,
   "metadata": {},
   "outputs": [
    {
     "data": {
      "text/plain": [
       "0.5"
      ]
     },
     "execution_count": 227,
     "metadata": {},
     "output_type": "execute_result"
    }
   ],
   "source": [
    "gbc_model.score(Xtest, Ytest)"
   ]
  },
  {
   "cell_type": "markdown",
   "metadata": {
    "id": "DZyn_lSk5lX3"
   },
   "source": [
    "        30- Predict labels of Status by applying the GB trained model on a testing dataset ( 1 point)"
   ]
  },
  {
   "cell_type": "code",
   "execution_count": 228,
   "metadata": {
    "id": "kk2YWXKr5lX3"
   },
   "outputs": [],
   "source": [
    "# write your code here:\n",
    "gbc_preds = gbc_model.predict(Xtest)"
   ]
  },
  {
   "cell_type": "markdown",
   "metadata": {
    "id": "ZEhUQ48k5lX3"
   },
   "source": [
    "       31- Finding the performance of GB Classifier using the predefined model_performance method (1 point)"
   ]
  },
  {
   "cell_type": "code",
   "execution_count": 229,
   "metadata": {
    "id": "wjhFwRo85lX3"
   },
   "outputs": [
    {
     "name": "stdout",
     "output_type": "stream",
     "text": [
      "Model name: Gradient Boosting Classifier \n",
      "Test accuracy (Accuracy Score): 0.500000\n",
      "Test accuracy (ROC AUC Score): 0.500000\n",
      "Train accuracy: 1.000000\n",
      "Area Under the Precision-Recall Curve: 0.250000\n"
     ]
    },
    {
     "data": {
      "image/png": "[encoded data removed]",
      "text/plain": [
       "<Figure size 1500x500 with 1 Axes>"
      ]
     },
     "metadata": {},
     "output_type": "display_data"
    }
   ],
   "source": [
    "# write your code here:\n",
    "model_performance(\"Gradient Boosting Classifier \", gbc_model, Xtrain, Ytrain, Ytest, gbc_preds)"
   ]
  },
  {
   "cell_type": "markdown",
   "metadata": {
    "id": "xvhPBpEUmV0-"
   },
   "source": [
    "        32- What do you observe about the performance of DT, RF, and GB models? (2 points)\n",
    "\n",
    "#### Write your answer here\n",
    "\n",
    "\n"
   ]
  },
  {
   "cell_type": "markdown",
   "metadata": {
    "id": "xDelyQK85lX4"
   },
   "source": []
  },
  {
   "cell_type": "markdown",
   "metadata": {
    "id": "Mjlcj1va5lX4"
   },
   "source": [
    "        33- What can be applied to improve the model performance? (2 points)\n",
    "\n",
    "#### Write your answer here:\n",
    "To boost the model's effectiveness, contemplate the adoption of the subsequent approaches:\n",
    "\n",
    "Employ oversampling or undersampling techniques to attain equilibrium or near-balanced class distribution.\n",
    "Apply class weighting, where greater weight is assigned to the minority class.\n",
    "Utilize regularization techniques to safeguard against overfitting.\n",
    "Undertake feature selection to preserve the most pertinent attributes.\n",
    "Incorporate data augmentation to bolster the dataset or introduce random variations."
   ]
  },
  {
   "cell_type": "code",
   "execution_count": null,
   "metadata": {},
   "outputs": [],
   "source": []
  },
  {
   "cell_type": "code",
   "execution_count": null,
   "metadata": {},
   "outputs": [],
   "source": []
  },
  {
   "cell_type": "code",
   "execution_count": null,
   "metadata": {},
   "outputs": [],
   "source": []
  },
  {
   "cell_type": "code",
   "execution_count": null,
   "metadata": {},
   "outputs": [],
   "source": []
  }
 ],
 "metadata": {
  "anaconda-cloud": {},
  "colab": {
   "provenance": []
  },
  "interpreter": {
   "hash": "9be90a182e443121e767cfcadea61fa0eeced8ec62a9bd8ae9861f6c1d839655"
  },
  "kernelspec": {
   "display_name": "Python 3 (ipykernel)",
   "language": "python",
   "name": "python3"
  },
  "language_info": {
   "codemirror_mode": {
    "name": "ipython",
    "version": 3
   },
   "file_extension": ".py",
   "mimetype": "text/x-python",
   "name": "python",
   "nbconvert_exporter": "python",
   "pygments_lexer": "ipython3",
   "version": "3.10.9"
  }
 },
 "nbformat": 4,
 "nbformat_minor": 1
}
